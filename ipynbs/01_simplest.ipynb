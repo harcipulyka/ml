{
 "cells": [
  {
   "cell_type": "code",
   "execution_count": 1,
   "metadata": {
    "pycharm": {
     "is_executing": true,
     "name": "#%%\n"
    }
   },
   "outputs": [],
   "source": [
    "import pandas as pd\n",
    "import tensorflow as tf\n",
    "from matplotlib import pyplot as plt\n",
    "from helper import charts"
   ]
  },
  {
   "cell_type": "code",
   "execution_count": 2,
   "metadata": {
    "pycharm": {
     "name": "#%%\n"
    }
   },
   "outputs": [],
   "source": [
    "# Defining\n",
    "def build_model(my_learning_rate):\n",
    "    \"\"\"Create and compile a simple linear regression model.\"\"\"\n",
    "    # Most simple tf.keras models are sequential.\n",
    "    # A sequential model contains one or more layers.\n",
    "    model = tf.keras.models.Sequential()\n",
    "\n",
    "    # Describe the topography of the model.\n",
    "    # The topography of a simple linear regression model\n",
    "    # is a single node in a single layer.\n",
    "    model.add(tf.keras.layers.Dense(units=1,\n",
    "                                    input_shape=(1,)))\n",
    "\n",
    "    # Compile the model topography into code that\n",
    "    # TensorFlow can efficiently execute. Configure\n",
    "    # training to minimize the model's mean squared error.\n",
    "    model.compile(optimizer=tf.keras.optimizers.Adam(learning_rate==my_learning_rate),\n",
    "                  loss=\"mean_squared_error\",\n",
    "                  metrics=[tf.keras.metrics.RootMeanSquaredError()])\n",
    "\n",
    "    return model\n",
    "\n",
    "\n",
    "def train_model(model, feature, label, epochs, batch_size):\n",
    "    \"\"\"Train the model by feeding it data.\"\"\"\n",
    "    history = model.fit(x=feature,\n",
    "                        y=label,\n",
    "                        batch_size=batch_size,\n",
    "                        epochs=epochs)\n",
    "    return history\n"
   ]
  },
  {
   "cell_type": "code",
   "execution_count": 3,
   "metadata": {
    "pycharm": {
     "name": "#%%\n"
    }
   },
   "outputs": [
    {
     "data": {
      "text/html": [
       "<div>\n",
       "<style scoped>\n",
       "    .dataframe tbody tr th:only-of-type {\n",
       "        vertical-align: middle;\n",
       "    }\n",
       "\n",
       "    .dataframe tbody tr th {\n",
       "        vertical-align: top;\n",
       "    }\n",
       "\n",
       "    .dataframe thead th {\n",
       "        text-align: right;\n",
       "    }\n",
       "</style>\n",
       "<table border=\"1\" class=\"dataframe\">\n",
       "  <thead>\n",
       "    <tr style=\"text-align: right;\">\n",
       "      <th></th>\n",
       "      <th>feature</th>\n",
       "      <th>label</th>\n",
       "    </tr>\n",
       "  </thead>\n",
       "  <tbody>\n",
       "    <tr>\n",
       "      <th>0</th>\n",
       "      <td>1.0</td>\n",
       "      <td>5.0</td>\n",
       "    </tr>\n",
       "    <tr>\n",
       "      <th>1</th>\n",
       "      <td>2.0</td>\n",
       "      <td>8.8</td>\n",
       "    </tr>\n",
       "    <tr>\n",
       "      <th>2</th>\n",
       "      <td>3.0</td>\n",
       "      <td>9.6</td>\n",
       "    </tr>\n",
       "    <tr>\n",
       "      <th>3</th>\n",
       "      <td>4.0</td>\n",
       "      <td>14.2</td>\n",
       "    </tr>\n",
       "    <tr>\n",
       "      <th>4</th>\n",
       "      <td>5.0</td>\n",
       "      <td>18.8</td>\n",
       "    </tr>\n",
       "    <tr>\n",
       "      <th>5</th>\n",
       "      <td>6.0</td>\n",
       "      <td>19.5</td>\n",
       "    </tr>\n",
       "    <tr>\n",
       "      <th>6</th>\n",
       "      <td>7.0</td>\n",
       "      <td>21.4</td>\n",
       "    </tr>\n",
       "    <tr>\n",
       "      <th>7</th>\n",
       "      <td>8.0</td>\n",
       "      <td>26.8</td>\n",
       "    </tr>\n",
       "    <tr>\n",
       "      <th>8</th>\n",
       "      <td>9.0</td>\n",
       "      <td>28.9</td>\n",
       "    </tr>\n",
       "    <tr>\n",
       "      <th>9</th>\n",
       "      <td>10.0</td>\n",
       "      <td>32.0</td>\n",
       "    </tr>\n",
       "    <tr>\n",
       "      <th>10</th>\n",
       "      <td>11.0</td>\n",
       "      <td>33.8</td>\n",
       "    </tr>\n",
       "    <tr>\n",
       "      <th>11</th>\n",
       "      <td>12.0</td>\n",
       "      <td>38.2</td>\n",
       "    </tr>\n",
       "  </tbody>\n",
       "</table>\n",
       "</div>"
      ],
      "text/plain": [
       "    feature  label\n",
       "0       1.0    5.0\n",
       "1       2.0    8.8\n",
       "2       3.0    9.6\n",
       "3       4.0   14.2\n",
       "4       5.0   18.8\n",
       "5       6.0   19.5\n",
       "6       7.0   21.4\n",
       "7       8.0   26.8\n",
       "8       9.0   28.9\n",
       "9      10.0   32.0\n",
       "10     11.0   33.8\n",
       "11     12.0   38.2"
      ]
     },
     "execution_count": 3,
     "metadata": {},
     "output_type": "execute_result"
    }
   ],
   "source": [
    "#sample data\n",
    "my_feature = [1.0, 2.0,  3.0,  4.0,  5.0,  6.0,  7.0,  8.0,  9.0, 10.0, 11.0, 12.0]\n",
    "my_label   = [5.0, 8.8,  9.6, 14.2, 18.8, 19.5, 21.4, 26.8, 28.9, 32.0, 33.8, 38.2]\n",
    "my_df = pd.DataFrame({\n",
    "    \"feature\":my_feature,\n",
    "    \"label\":my_label})\n",
    "\n",
    "my_df"
   ]
  },
  {
   "cell_type": "code",
   "execution_count": 4,
   "metadata": {
    "pycharm": {
     "name": "#%%\n"
    }
   },
   "outputs": [
    {
     "name": "stdout",
     "output_type": "stream",
     "text": [
      "Epoch 1/30\n",
      "3/3 [==============================] - 0s 4ms/step - loss: 124.6246 - root_mean_squared_error: 11.1635\n",
      "Epoch 2/30\n",
      "3/3 [==============================] - 0s 2ms/step - loss: 59.8832 - root_mean_squared_error: 7.7384\n",
      "Epoch 3/30\n",
      "3/3 [==============================] - 0s 3ms/step - loss: 37.6621 - root_mean_squared_error: 6.1369\n",
      "Epoch 4/30\n",
      "3/3 [==============================] - 0s 2ms/step - loss: 17.9746 - root_mean_squared_error: 4.2397\n",
      "Epoch 5/30\n",
      "3/3 [==============================] - 0s 2ms/step - loss: 32.6488 - root_mean_squared_error: 5.7139\n",
      "Epoch 6/30\n",
      "3/3 [==============================] - 0s 2ms/step - loss: 4.0782 - root_mean_squared_error: 2.0195\n",
      "Epoch 7/30\n",
      "3/3 [==============================] - 0s 3ms/step - loss: 10.7503 - root_mean_squared_error: 3.2788\n",
      "Epoch 8/30\n",
      "3/3 [==============================] - 0s 2ms/step - loss: 8.6378 - root_mean_squared_error: 2.9390\n",
      "Epoch 9/30\n",
      "3/3 [==============================] - 0s 2ms/step - loss: 1.7062 - root_mean_squared_error: 1.3062\n",
      "Epoch 10/30\n",
      "3/3 [==============================] - 0s 2ms/step - loss: 5.2687 - root_mean_squared_error: 2.2954\n",
      "Epoch 11/30\n",
      "3/3 [==============================] - 0s 3ms/step - loss: 2.2281 - root_mean_squared_error: 1.4927\n",
      "Epoch 12/30\n",
      "3/3 [==============================] - 0s 2ms/step - loss: 1.3951 - root_mean_squared_error: 1.1811\n",
      "Epoch 13/30\n",
      "3/3 [==============================] - 0s 2ms/step - loss: 2.1885 - root_mean_squared_error: 1.4794\n",
      "Epoch 14/30\n",
      "3/3 [==============================] - 0s 2ms/step - loss: 0.8709 - root_mean_squared_error: 0.9332\n",
      "Epoch 15/30\n",
      "3/3 [==============================] - 0s 15ms/step - loss: 1.5451 - root_mean_squared_error: 1.2430\n",
      "Epoch 16/30\n",
      "3/3 [==============================] - 0s 12ms/step - loss: 0.6837 - root_mean_squared_error: 0.8269\n",
      "Epoch 17/30\n",
      "3/3 [==============================] - 0s 3ms/step - loss: 1.6258 - root_mean_squared_error: 1.2751\n",
      "Epoch 18/30\n",
      "3/3 [==============================] - 0s 2ms/step - loss: 1.1958 - root_mean_squared_error: 1.0935\n",
      "Epoch 19/30\n",
      "3/3 [==============================] - 0s 2ms/step - loss: 1.1576 - root_mean_squared_error: 1.0759\n",
      "Epoch 20/30\n",
      "3/3 [==============================] - 0s 2ms/step - loss: 1.6656 - root_mean_squared_error: 1.2906\n",
      "Epoch 21/30\n",
      "3/3 [==============================] - 0s 2ms/step - loss: 0.8408 - root_mean_squared_error: 0.9170\n",
      "Epoch 22/30\n",
      "3/3 [==============================] - 0s 2ms/step - loss: 1.1619 - root_mean_squared_error: 1.0779\n",
      "Epoch 23/30\n",
      "3/3 [==============================] - 0s 2ms/step - loss: 0.8507 - root_mean_squared_error: 0.9223\n",
      "Epoch 24/30\n",
      "3/3 [==============================] - 0s 2ms/step - loss: 1.2636 - root_mean_squared_error: 1.1241\n",
      "Epoch 25/30\n",
      "3/3 [==============================] - 0s 3ms/step - loss: 0.9734 - root_mean_squared_error: 0.9866\n",
      "Epoch 26/30\n",
      "3/3 [==============================] - 0s 2ms/step - loss: 1.1140 - root_mean_squared_error: 1.0555\n",
      "Epoch 27/30\n",
      "3/3 [==============================] - 0s 3ms/step - loss: 0.9546 - root_mean_squared_error: 0.9771\n",
      "Epoch 28/30\n",
      "3/3 [==============================] - 0s 2ms/step - loss: 1.1596 - root_mean_squared_error: 1.0768\n",
      "Epoch 29/30\n",
      "3/3 [==============================] - 0s 2ms/step - loss: 1.0816 - root_mean_squared_error: 1.0400\n",
      "Epoch 30/30\n",
      "3/3 [==============================] - 0s 2ms/step - loss: 0.9319 - root_mean_squared_error: 0.9653\n"
     ]
    }
   ],
   "source": [
    "# first attempt\n",
    "learning_rate = 0.01\n",
    "epochs = 30\n",
    "batch_size = 5\n",
    "\n",
    "model = build_model(learning_rate)\n",
    "history = train_model(model, my_df[\"feature\"], my_df[\"label\"], epochs, batch_size)"
   ]
  },
  {
   "cell_type": "code",
   "execution_count": 5,
   "metadata": {},
   "outputs": [
    {
     "data": {
      "image/png": "[encoded data removed]",
      "text/plain": [
       "<Figure size 640x480 with 1 Axes>"
      ]
     },
     "metadata": {},
     "output_type": "display_data"
    }
   ],
   "source": [
    "hist = pd.DataFrame(history.history)\n",
    "rmse = hist[\"root_mean_squared_error\"]\n",
    "charts.plot_training_loss(rmse)"
   ]
  },
  {
   "cell_type": "code",
   "execution_count": 6,
   "metadata": {
    "pycharm": {
     "name": "#%%\n"
    }
   },
   "outputs": [
    {
     "name": "stdout",
     "output_type": "stream",
     "text": [
      "1/1 [==============================] - 0s 64ms/step\n"
     ]
    },
    {
     "data": {
      "image/png": "[encoded data removed]",
      "text/plain": [
       "<Figure size 640x480 with 1 Axes>"
      ]
     },
     "metadata": {},
     "output_type": "display_data"
    }
   ],
   "source": [
    "my_df[\"prediction\"] = model.predict(my_df[\"feature\"])\n",
    "charts.plot_model_accuracy(df=my_df, label_key=\"label\")"
   ]
  }
 ],
 "metadata": {
  "kernelspec": {
   "display_name": "Python 3",
   "language": "python",
   "name": "python3"
  },
  "language_info": {
   "codemirror_mode": {
    "name": "ipython",
    "version": 3
   },
   "file_extension": ".py",
   "mimetype": "text/x-python",
   "name": "python",
   "nbconvert_exporter": "python",
   "pygments_lexer": "ipython3",
   "version": "3.10.10"
  },
  "orig_nbformat": 4,
  "vscode": {
   "interpreter": {
    "hash": "f217f4ba0fbdac2659645b2b4b384a25fa6ae93bfd25d33be97b584101bdc912"
   }
  }
 },
 "nbformat": 4,
 "nbformat_minor": 2
}
