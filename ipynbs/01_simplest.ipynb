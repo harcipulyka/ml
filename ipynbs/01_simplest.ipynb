{
 "cells": [
  {
   "cell_type": "code",
   "execution_count": 131,
   "metadata": {
    "pycharm": {
     "is_executing": true,
     "name": "#%%\n"
    }
   },
   "outputs": [
    {
     "name": "stdout",
     "output_type": "stream",
     "text": [
      "The autoreload extension is already loaded. To reload it, use:\n",
      "  %reload_ext autoreload\n"
     ]
    }
   ],
   "source": [
    "import pandas as pd\n",
    "import tensorflow as tf\n",
    "from matplotlib import pyplot as plt\n",
    "from helper import lib, charts, heatmaps"
   ]
  },
  {
   "cell_type": "code",
   "execution_count": 132,
   "metadata": {
    "pycharm": {
     "name": "#%%\n"
    }
   },
   "outputs": [],
   "source": [
    "# Defining\n",
    "def build_model(my_learning_rate):\n",
    "    \"\"\"Create and compile a simple linear regression model.\"\"\"\n",
    "    # Most simple tf.keras models are sequential.\n",
    "    # A sequential model contains one or more layers.\n",
    "    model = tf.keras.models.Sequential()\n",
    "\n",
    "    # Describe the topography of the model.\n",
    "    # The topography of a simple linear regression model\n",
    "    # is a single node in a single layer.\n",
    "    model.add(tf.keras.layers.Dense(units=1,\n",
    "                                    input_shape=(1,)))\n",
    "\n",
    "    # Compile the model topography into code that\n",
    "    # TensorFlow can efficiently execute. Configure\n",
    "    # training to minimize the model's mean squared error.\n",
    "    model.compile(optimizer=tf.keras.optimizers.Adam(learning_rate==my_learning_rate),\n",
    "                  loss=\"mean_squared_error\",\n",
    "                  metrics=[tf.keras.metrics.RootMeanSquaredError()])\n",
    "\n",
    "    return model\n",
    "\n",
    "\n",
    "def train_model(model, feature, label, epochs, batch_size):\n",
    "    \"\"\"Train the model by feeding it data.\"\"\"\n",
    "    history = model.fit(x=feature,\n",
    "                        y=label,\n",
    "                        batch_size=batch_size,\n",
    "                        epochs=epochs)\n",
    "    return history\n"
   ]
  },
  {
   "cell_type": "code",
   "execution_count": 133,
   "metadata": {
    "pycharm": {
     "name": "#%%\n"
    }
   },
   "outputs": [
    {
     "data": {
      "text/html": [
       "<div>\n",
       "<style scoped>\n",
       "    .dataframe tbody tr th:only-of-type {\n",
       "        vertical-align: middle;\n",
       "    }\n",
       "\n",
       "    .dataframe tbody tr th {\n",
       "        vertical-align: top;\n",
       "    }\n",
       "\n",
       "    .dataframe thead th {\n",
       "        text-align: right;\n",
       "    }\n",
       "</style>\n",
       "<table border=\"1\" class=\"dataframe\">\n",
       "  <thead>\n",
       "    <tr style=\"text-align: right;\">\n",
       "      <th></th>\n",
       "      <th>feature</th>\n",
       "      <th>label</th>\n",
       "    </tr>\n",
       "  </thead>\n",
       "  <tbody>\n",
       "    <tr>\n",
       "      <th>0</th>\n",
       "      <td>1.0</td>\n",
       "      <td>5.0</td>\n",
       "    </tr>\n",
       "    <tr>\n",
       "      <th>1</th>\n",
       "      <td>2.0</td>\n",
       "      <td>8.8</td>\n",
       "    </tr>\n",
       "    <tr>\n",
       "      <th>2</th>\n",
       "      <td>3.0</td>\n",
       "      <td>9.6</td>\n",
       "    </tr>\n",
       "    <tr>\n",
       "      <th>3</th>\n",
       "      <td>4.0</td>\n",
       "      <td>14.2</td>\n",
       "    </tr>\n",
       "    <tr>\n",
       "      <th>4</th>\n",
       "      <td>5.0</td>\n",
       "      <td>18.8</td>\n",
       "    </tr>\n",
       "    <tr>\n",
       "      <th>5</th>\n",
       "      <td>6.0</td>\n",
       "      <td>19.5</td>\n",
       "    </tr>\n",
       "    <tr>\n",
       "      <th>6</th>\n",
       "      <td>7.0</td>\n",
       "      <td>21.4</td>\n",
       "    </tr>\n",
       "    <tr>\n",
       "      <th>7</th>\n",
       "      <td>8.0</td>\n",
       "      <td>26.8</td>\n",
       "    </tr>\n",
       "    <tr>\n",
       "      <th>8</th>\n",
       "      <td>9.0</td>\n",
       "      <td>28.9</td>\n",
       "    </tr>\n",
       "    <tr>\n",
       "      <th>9</th>\n",
       "      <td>10.0</td>\n",
       "      <td>32.0</td>\n",
       "    </tr>\n",
       "    <tr>\n",
       "      <th>10</th>\n",
       "      <td>11.0</td>\n",
       "      <td>33.8</td>\n",
       "    </tr>\n",
       "    <tr>\n",
       "      <th>11</th>\n",
       "      <td>12.0</td>\n",
       "      <td>38.2</td>\n",
       "    </tr>\n",
       "  </tbody>\n",
       "</table>\n",
       "</div>"
      ],
      "text/plain": [
       "    feature  label\n",
       "0       1.0    5.0\n",
       "1       2.0    8.8\n",
       "2       3.0    9.6\n",
       "3       4.0   14.2\n",
       "4       5.0   18.8\n",
       "5       6.0   19.5\n",
       "6       7.0   21.4\n",
       "7       8.0   26.8\n",
       "8       9.0   28.9\n",
       "9      10.0   32.0\n",
       "10     11.0   33.8\n",
       "11     12.0   38.2"
      ]
     },
     "execution_count": 133,
     "metadata": {},
     "output_type": "execute_result"
    }
   ],
   "source": [
    "#sample data\n",
    "my_feature = [1.0, 2.0,  3.0,  4.0,  5.0,  6.0,  7.0,  8.0,  9.0, 10.0, 11.0, 12.0]\n",
    "my_label   = [5.0, 8.8,  9.6, 14.2, 18.8, 19.5, 21.4, 26.8, 28.9, 32.0, 33.8, 38.2]\n",
    "my_df = pd.DataFrame({\n",
    "    \"feature\":my_feature,\n",
    "    \"label\":my_label})\n",
    "\n",
    "my_df"
   ]
  },
  {
   "cell_type": "code",
   "execution_count": 134,
   "metadata": {
    "pycharm": {
     "name": "#%%\n"
    }
   },
   "outputs": [
    {
     "name": "stdout",
     "output_type": "stream",
     "text": [
      "Epoch 1/30\n",
      "3/3 [==============================] - 0s 3ms/step - loss: 499.7632 - root_mean_squared_error: 22.3554\n",
      "Epoch 2/30\n",
      "3/3 [==============================] - 0s 4ms/step - loss: 26.3438 - root_mean_squared_error: 5.1326\n",
      "Epoch 3/30\n",
      "3/3 [==============================] - 0s 3ms/step - loss: 146.6318 - root_mean_squared_error: 12.1092\n",
      "Epoch 4/30\n",
      "3/3 [==============================] - 0s 3ms/step - loss: 188.7825 - root_mean_squared_error: 13.7398\n",
      "Epoch 5/30\n",
      "3/3 [==============================] - 0s 2ms/step - loss: 52.3818 - root_mean_squared_error: 7.2375\n",
      "Epoch 6/30\n",
      "3/3 [==============================] - 0s 3ms/step - loss: 14.7977 - root_mean_squared_error: 3.8468\n",
      "Epoch 7/30\n",
      "3/3 [==============================] - 0s 3ms/step - loss: 65.3628 - root_mean_squared_error: 8.0847\n",
      "Epoch 8/30\n",
      "3/3 [==============================] - 0s 4ms/step - loss: 53.8573 - root_mean_squared_error: 7.3388\n",
      "Epoch 9/30\n",
      "3/3 [==============================] - 0s 4ms/step - loss: 13.3238 - root_mean_squared_error: 3.6502\n",
      "Epoch 10/30\n",
      "3/3 [==============================] - 0s 3ms/step - loss: 8.4101 - root_mean_squared_error: 2.9000\n",
      "Epoch 11/30\n",
      "3/3 [==============================] - 0s 3ms/step - loss: 35.4323 - root_mean_squared_error: 5.9525\n",
      "Epoch 12/30\n",
      "3/3 [==============================] - 0s 2ms/step - loss: 23.7754 - root_mean_squared_error: 4.8760\n",
      "Epoch 13/30\n",
      "3/3 [==============================] - 0s 3ms/step - loss: 2.4163 - root_mean_squared_error: 1.5544\n",
      "Epoch 14/30\n",
      "3/3 [==============================] - 0s 3ms/step - loss: 5.1204 - root_mean_squared_error: 2.2628\n",
      "Epoch 15/30\n",
      "3/3 [==============================] - 0s 2ms/step - loss: 9.3675 - root_mean_squared_error: 3.0606\n",
      "Epoch 16/30\n",
      "3/3 [==============================] - 0s 3ms/step - loss: 3.9513 - root_mean_squared_error: 1.9878\n",
      "Epoch 17/30\n",
      "3/3 [==============================] - 0s 3ms/step - loss: 1.1787 - root_mean_squared_error: 1.0857\n",
      "Epoch 18/30\n",
      "3/3 [==============================] - 0s 3ms/step - loss: 3.5949 - root_mean_squared_error: 1.8960\n",
      "Epoch 19/30\n",
      "3/3 [==============================] - 0s 3ms/step - loss: 2.8307 - root_mean_squared_error: 1.6825\n",
      "Epoch 20/30\n",
      "3/3 [==============================] - 0s 4ms/step - loss: 1.1691 - root_mean_squared_error: 1.0812\n",
      "Epoch 21/30\n",
      "3/3 [==============================] - 0s 3ms/step - loss: 1.3310 - root_mean_squared_error: 1.1537\n",
      "Epoch 22/30\n",
      "3/3 [==============================] - 0s 3ms/step - loss: 1.2734 - root_mean_squared_error: 1.1285\n",
      "Epoch 23/30\n",
      "3/3 [==============================] - 0s 3ms/step - loss: 0.9281 - root_mean_squared_error: 0.9634\n",
      "Epoch 24/30\n",
      "3/3 [==============================] - 0s 3ms/step - loss: 1.0386 - root_mean_squared_error: 1.0191\n",
      "Epoch 25/30\n",
      "3/3 [==============================] - 0s 2ms/step - loss: 0.9308 - root_mean_squared_error: 0.9648\n",
      "Epoch 26/30\n",
      "3/3 [==============================] - 0s 3ms/step - loss: 0.8932 - root_mean_squared_error: 0.9451\n",
      "Epoch 27/30\n",
      "3/3 [==============================] - 0s 11ms/step - loss: 0.9956 - root_mean_squared_error: 0.9978\n",
      "Epoch 28/30\n",
      "3/3 [==============================] - 0s 3ms/step - loss: 0.9938 - root_mean_squared_error: 0.9969\n",
      "Epoch 29/30\n",
      "3/3 [==============================] - 0s 2ms/step - loss: 0.9439 - root_mean_squared_error: 0.9715\n",
      "Epoch 30/30\n",
      "3/3 [==============================] - 0s 2ms/step - loss: 0.9056 - root_mean_squared_error: 0.9516\n"
     ]
    }
   ],
   "source": [
    "# first attempt\n",
    "learning_rate = 0.01\n",
    "epochs = 30\n",
    "batch_size = 5\n",
    "\n",
    "model = build_model(learning_rate)\n",
    "history = train_model(model, my_df[\"feature\"], my_df[\"label\"], epochs, batch_size)"
   ]
  },
  {
   "cell_type": "code",
   "execution_count": 135,
   "metadata": {},
   "outputs": [
    {
     "data": {
      "image/png": "[encoded data removed]",
      "text/plain": [
       "<Figure size 640x480 with 1 Axes>"
      ]
     },
     "metadata": {},
     "output_type": "display_data"
    }
   ],
   "source": [
    "hist = pd.DataFrame(history.history)\n",
    "rmse = hist[\"root_mean_squared_error\"]\n",
    "charts.plot_training_loss(rmse)"
   ]
  },
  {
   "cell_type": "code",
   "execution_count": 136,
   "metadata": {
    "pycharm": {
     "name": "#%%\n"
    }
   },
   "outputs": [
    {
     "name": "stdout",
     "output_type": "stream",
     "text": [
      "1/1 [==============================] - 0s 40ms/step\n"
     ]
    },
    {
     "data": {
      "image/png": "[encoded data removed]",
      "text/plain": [
       "<Figure size 640x480 with 1 Axes>"
      ]
     },
     "metadata": {},
     "output_type": "display_data"
    }
   ],
   "source": [
    "my_df[\"prediction\"] = model.predict(my_df[\"feature\"])\n",
    "charts.plot_model_accuracy(df=my_df, label_key=\"label\")"
   ]
  }
 ],
 "metadata": {
  "kernelspec": {
   "display_name": "Python 3",
   "language": "python",
   "name": "python3"
  },
  "language_info": {
   "codemirror_mode": {
    "name": "ipython",
    "version": 3
   },
   "file_extension": ".py",
   "mimetype": "text/x-python",
   "name": "python",
   "nbconvert_exporter": "python",
   "pygments_lexer": "ipython3",
   "version": "3.10.10"
  },
  "orig_nbformat": 4,
  "vscode": {
   "interpreter": {
    "hash": "f217f4ba0fbdac2659645b2b4b384a25fa6ae93bfd25d33be97b584101bdc912"
   }
  }
 },
 "nbformat": 4,
 "nbformat_minor": 2
}
