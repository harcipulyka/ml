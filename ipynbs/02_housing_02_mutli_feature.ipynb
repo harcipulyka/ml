{
 "cells": [
  {
   "attachments": {},
   "cell_type": "markdown",
   "metadata": {},
   "source": [
    "# Multi feature, but simple model\n",
    "This model uses multiple features as inputs. \n",
    "\n",
    "Main takeaways:\n",
    " - having multiple inputs in a keras Dense layer doesn't actually help the model\n",
    " - the median_income feature is the most important feature, and even the multi feature model relies on that mostly\n",
    " - the difference between th\n",
    " \n",
    "Known limitations of this notebook:\n",
    " - no test/validation split of the dataset\n",
    " - no data preprocessing\n",
    " - no data normalization"
   ]
  },
  {
   "cell_type": "code",
   "execution_count": 1,
   "metadata": {
    "pycharm": {
     "name": "#%%\n"
    }
   },
   "outputs": [],
   "source": [
    "import pandas as pd\n",
    "import tensorflow as tf\n",
    "from matplotlib import pyplot as plt\n",
    "import seaborn as sns\n",
    "import numpy as np\n",
    "from helper import charts"
   ]
  },
  {
   "cell_type": "code",
   "execution_count": 2,
   "metadata": {
    "pycharm": {
     "name": "#%%\n"
    }
   },
   "outputs": [],
   "source": [
    "# Import the dataset.\n",
    "training_df = pd.read_csv(filepath_or_buffer=\"https://download.mlcc.google.com/mledu-datasets/california_housing_train.csv\")\n",
    "\n",
    "# Scale the label.\n",
    "training_df[\"median_house_value\"] /= 1000.0"
   ]
  },
  {
   "cell_type": "code",
   "execution_count": 3,
   "metadata": {
    "collapsed": false,
    "pycharm": {
     "name": "#%%\n"
    }
   },
   "outputs": [],
   "source": [
    "def build_model(my_learning_rate, n):\n",
    "  \"\"\"Create and compile a simple linear regression model. n is the number of features as inputs\"\"\"\n",
    "  # Most simple tf.keras models are sequential.\n",
    "  model = tf.keras.models.Sequential()\n",
    "\n",
    "  # Describe the topography of the model.\n",
    "  # The topography of a simple linear regression model\n",
    "  # is a single node in a single layer.\n",
    "  model.add(tf.keras.layers.Dense(units=1, \n",
    "                                  input_shape=(n,)))\n",
    "\n",
    "  # Compile the model topography into code that TensorFlow can efficiently\n",
    "  # execute. Configure training to minimize the model's mean squared error. \n",
    "  model.compile(optimizer=tf.keras.optimizers.Adam(learning_rate=my_learning_rate),\n",
    "                loss=\"mean_squared_error\",\n",
    "                metrics=[tf.keras.metrics.RootMeanSquaredError()])\n",
    "\n",
    "  return model        \n",
    "\n",
    "\n",
    "def train_model(model, df, feature, label, epochs, batch_size):\n",
    "  \"\"\"Train the model by feeding it data.\"\"\"\n",
    "\n",
    "  # Feed the model the feature and the label.\n",
    "  # The model will train for the specified number of epochs. \n",
    "  history = model.fit(x=df[feature], y=df[label], batch_size=batch_size, epochs=epochs)\n",
    "\n",
    "  return history"
   ]
  },
  {
   "cell_type": "code",
   "execution_count": 5,
   "metadata": {
    "collapsed": false,
    "pycharm": {
     "name": "#%%\n"
    }
   },
   "outputs": [
    {
     "name": "stdout",
     "output_type": "stream",
     "text": [
      "Epoch 1/50\n",
      " 20/266 [=>............................] - ETA: 1s - loss: 1619210.6250 - root_mean_squared_error: 1272.4821"
     ]
    },
    {
     "name": "stderr",
     "output_type": "stream",
     "text": [
      "2023-02-18 22:53:17.767370: I tensorflow/core/grappler/optimizers/custom_graph_optimizer_registry.cc:114] Plugin optimizer for device_type GPU is enabled.\n"
     ]
    },
    {
     "name": "stdout",
     "output_type": "stream",
     "text": [
      "266/266 [==============================] - 2s 6ms/step - loss: 215119.5156 - root_mean_squared_error: 463.8098\n",
      "Epoch 2/50\n",
      "266/266 [==============================] - 1s 5ms/step - loss: 38603.5781 - root_mean_squared_error: 196.4780\n",
      "Epoch 3/50\n",
      "266/266 [==============================] - 1s 5ms/step - loss: 20860.4062 - root_mean_squared_error: 144.4313\n",
      "Epoch 4/50\n",
      "266/266 [==============================] - 1s 5ms/step - loss: 15209.1709 - root_mean_squared_error: 123.3255\n",
      "Epoch 5/50\n",
      "266/266 [==============================] - 1s 5ms/step - loss: 13176.6084 - root_mean_squared_error: 114.7894\n",
      "Epoch 6/50\n",
      "266/266 [==============================] - 1s 5ms/step - loss: 12392.4385 - root_mean_squared_error: 111.3213\n",
      "Epoch 7/50\n",
      "266/266 [==============================] - 1s 5ms/step - loss: 11937.7002 - root_mean_squared_error: 109.2598\n",
      "Epoch 8/50\n",
      "266/266 [==============================] - 1s 5ms/step - loss: 11510.9697 - root_mean_squared_error: 107.2892\n",
      "Epoch 9/50\n",
      "266/266 [==============================] - 1s 5ms/step - loss: 11138.6357 - root_mean_squared_error: 105.5397\n",
      "Epoch 10/50\n",
      "266/266 [==============================] - 1s 5ms/step - loss: 10742.3652 - root_mean_squared_error: 103.6454\n",
      "Epoch 11/50\n",
      "266/266 [==============================] - 1s 5ms/step - loss: 10423.4697 - root_mean_squared_error: 102.0954\n",
      "Epoch 12/50\n",
      "266/266 [==============================] - 1s 5ms/step - loss: 10311.1104 - root_mean_squared_error: 101.5436\n",
      "Epoch 13/50\n",
      "266/266 [==============================] - 1s 5ms/step - loss: 9940.3691 - root_mean_squared_error: 99.7014\n",
      "Epoch 14/50\n",
      "266/266 [==============================] - 1s 5ms/step - loss: 9625.8066 - root_mean_squared_error: 98.1112\n",
      "Epoch 15/50\n",
      "266/266 [==============================] - 1s 5ms/step - loss: 9594.7852 - root_mean_squared_error: 97.9530\n",
      "Epoch 16/50\n",
      "266/266 [==============================] - 1s 5ms/step - loss: 9093.8379 - root_mean_squared_error: 95.3616\n",
      "Epoch 17/50\n",
      "266/266 [==============================] - 1s 5ms/step - loss: 9105.3838 - root_mean_squared_error: 95.4221\n",
      "Epoch 18/50\n",
      "266/266 [==============================] - 1s 5ms/step - loss: 8819.9922 - root_mean_squared_error: 93.9148\n",
      "Epoch 19/50\n",
      "266/266 [==============================] - 1s 5ms/step - loss: 8436.6377 - root_mean_squared_error: 91.8512\n",
      "Epoch 20/50\n",
      "266/266 [==============================] - 1s 5ms/step - loss: 8400.1074 - root_mean_squared_error: 91.6521\n",
      "Epoch 21/50\n",
      "266/266 [==============================] - 1s 5ms/step - loss: 8490.8887 - root_mean_squared_error: 92.1460\n",
      "Epoch 22/50\n",
      "266/266 [==============================] - 1s 5ms/step - loss: 8036.2036 - root_mean_squared_error: 89.6449\n",
      "Epoch 23/50\n",
      "266/266 [==============================] - 1s 5ms/step - loss: 7751.4556 - root_mean_squared_error: 88.0424\n",
      "Epoch 24/50\n",
      "266/266 [==============================] - 1s 5ms/step - loss: 7661.9458 - root_mean_squared_error: 87.5325\n",
      "Epoch 25/50\n",
      "266/266 [==============================] - 2s 6ms/step - loss: 7557.4956 - root_mean_squared_error: 86.9339\n",
      "Epoch 26/50\n",
      "266/266 [==============================] - 1s 5ms/step - loss: 7438.0996 - root_mean_squared_error: 86.2444\n",
      "Epoch 27/50\n",
      "266/266 [==============================] - 1s 5ms/step - loss: 7593.2510 - root_mean_squared_error: 87.1393\n",
      "Epoch 28/50\n",
      "266/266 [==============================] - 1s 5ms/step - loss: 7335.7188 - root_mean_squared_error: 85.6488\n",
      "Epoch 29/50\n",
      "266/266 [==============================] - 1s 5ms/step - loss: 6995.4785 - root_mean_squared_error: 83.6390\n",
      "Epoch 30/50\n",
      "266/266 [==============================] - 1s 5ms/step - loss: 6984.2012 - root_mean_squared_error: 83.5715\n",
      "Epoch 31/50\n",
      "266/266 [==============================] - 1s 5ms/step - loss: 7127.6567 - root_mean_squared_error: 84.4255\n",
      "Epoch 32/50\n",
      "266/266 [==============================] - 1s 5ms/step - loss: 7094.0933 - root_mean_squared_error: 84.2264\n",
      "Epoch 33/50\n",
      "266/266 [==============================] - 1s 5ms/step - loss: 6794.1899 - root_mean_squared_error: 82.4269\n",
      "Epoch 34/50\n",
      "266/266 [==============================] - 2s 6ms/step - loss: 6809.9888 - root_mean_squared_error: 82.5227\n",
      "Epoch 35/50\n",
      "266/266 [==============================] - 1s 5ms/step - loss: 6889.7251 - root_mean_squared_error: 83.0044\n",
      "Epoch 36/50\n",
      "266/266 [==============================] - 1s 5ms/step - loss: 6818.0713 - root_mean_squared_error: 82.5716\n",
      "Epoch 37/50\n",
      "266/266 [==============================] - 1s 5ms/step - loss: 6866.3267 - root_mean_squared_error: 82.8633\n",
      "Epoch 38/50\n",
      "266/266 [==============================] - 1s 5ms/step - loss: 6746.6099 - root_mean_squared_error: 82.1378\n",
      "Epoch 39/50\n",
      "266/266 [==============================] - 1s 5ms/step - loss: 6878.3555 - root_mean_squared_error: 82.9359\n",
      "Epoch 40/50\n",
      "266/266 [==============================] - 1s 5ms/step - loss: 7009.4497 - root_mean_squared_error: 83.7225\n",
      "Epoch 41/50\n",
      "266/266 [==============================] - 1s 5ms/step - loss: 6592.3604 - root_mean_squared_error: 81.1934\n",
      "Epoch 42/50\n",
      "266/266 [==============================] - 1s 5ms/step - loss: 6547.6333 - root_mean_squared_error: 80.9174\n",
      "Epoch 43/50\n",
      "266/266 [==============================] - 1s 5ms/step - loss: 6745.3062 - root_mean_squared_error: 82.1298\n",
      "Epoch 44/50\n",
      "266/266 [==============================] - 1s 5ms/step - loss: 6568.0322 - root_mean_squared_error: 81.0434\n",
      "Epoch 45/50\n",
      "266/266 [==============================] - 1s 5ms/step - loss: 6481.7832 - root_mean_squared_error: 80.5095\n",
      "Epoch 46/50\n",
      "266/266 [==============================] - 1s 5ms/step - loss: 6536.0649 - root_mean_squared_error: 80.8459\n",
      "Epoch 47/50\n",
      "266/266 [==============================] - 1s 5ms/step - loss: 6487.5972 - root_mean_squared_error: 80.5456\n",
      "Epoch 48/50\n",
      "266/266 [==============================] - 1s 5ms/step - loss: 6498.5918 - root_mean_squared_error: 80.6138\n",
      "Epoch 49/50\n",
      "266/266 [==============================] - 1s 5ms/step - loss: 6806.2202 - root_mean_squared_error: 82.4998\n",
      "Epoch 50/50\n",
      "266/266 [==============================] - 1s 5ms/step - loss: 6706.2700 - root_mean_squared_error: 81.8918\n"
     ]
    }
   ],
   "source": [
    "# The following variables are the hyperparameters.\n",
    "learning_rate = 0.01\n",
    "epoch_count = 50\n",
    "batch_size = 64\n",
    "\n",
    "# Specify the feature and the label.\n",
    "my_feature = [\"longitude\", \"latitude\", \"total_rooms\", \"total_bedrooms\", \"population\", \"households\", \"median_income\"]\n",
    "my_label=\"median_house_value\" # the median value of a house on a specific city block.\n",
    "# That is, you're going to create a model that predicts house value based \n",
    "# solely on total_rooms.  \n",
    "\n",
    "# Invoke the functions.\n",
    "my_model = build_model(learning_rate, n=len(my_feature))\n",
    "history = train_model(my_model, training_df, my_feature, my_label, epoch_count, batch_size)"
   ]
  },
  {
   "cell_type": "code",
   "execution_count": 6,
   "metadata": {},
   "outputs": [
    {
     "data": {
      "image/png": "[encoded data removed]",
      "text/plain": [
       "<Figure size 640x480 with 1 Axes>"
      ]
     },
     "metadata": {},
     "output_type": "display_data"
    }
   ],
   "source": [
    "#saving history and epcohs to dataframe\n",
    "epochs = history.epoch\n",
    "hist = pd.DataFrame(history.history)\n",
    "rmse = hist[\"root_mean_squared_error\"]\n",
    "charts.plot_training_loss(rmse)"
   ]
  },
  {
   "cell_type": "code",
   "execution_count": 7,
   "metadata": {
    "collapsed": false,
    "pycharm": {
     "name": "#%%\n"
    }
   },
   "outputs": [
    {
     "name": "stdout",
     "output_type": "stream",
     "text": [
      "7/7 [==============================] - 0s 3ms/step\n"
     ]
    },
    {
     "name": "stderr",
     "output_type": "stream",
     "text": [
      "2023-02-18 22:55:27.414287: I tensorflow/core/grappler/optimizers/custom_graph_optimizer_registry.cc:114] Plugin optimizer for device_type GPU is enabled.\n"
     ]
    },
    {
     "data": {
      "text/html": [
       "<div>\n",
       "<style scoped>\n",
       "    .dataframe tbody tr th:only-of-type {\n",
       "        vertical-align: middle;\n",
       "    }\n",
       "\n",
       "    .dataframe tbody tr th {\n",
       "        vertical-align: top;\n",
       "    }\n",
       "\n",
       "    .dataframe thead th {\n",
       "        text-align: right;\n",
       "    }\n",
       "</style>\n",
       "<table border=\"1\" class=\"dataframe\">\n",
       "  <thead>\n",
       "    <tr style=\"text-align: right;\">\n",
       "      <th></th>\n",
       "      <th>longitude</th>\n",
       "      <th>latitude</th>\n",
       "      <th>housing_median_age</th>\n",
       "      <th>total_rooms</th>\n",
       "      <th>total_bedrooms</th>\n",
       "      <th>population</th>\n",
       "      <th>households</th>\n",
       "      <th>median_income</th>\n",
       "      <th>median_house_value</th>\n",
       "      <th>prediction</th>\n",
       "    </tr>\n",
       "  </thead>\n",
       "  <tbody>\n",
       "    <tr>\n",
       "      <th>0</th>\n",
       "      <td>-117.89</td>\n",
       "      <td>33.94</td>\n",
       "      <td>20.0</td>\n",
       "      <td>3349.0</td>\n",
       "      <td>685.0</td>\n",
       "      <td>1822.0</td>\n",
       "      <td>675.0</td>\n",
       "      <td>4.7216</td>\n",
       "      <td>227.0</td>\n",
       "      <td>242.552048</td>\n",
       "    </tr>\n",
       "    <tr>\n",
       "      <th>1</th>\n",
       "      <td>-122.14</td>\n",
       "      <td>37.69</td>\n",
       "      <td>38.0</td>\n",
       "      <td>1571.0</td>\n",
       "      <td>317.0</td>\n",
       "      <td>874.0</td>\n",
       "      <td>301.0</td>\n",
       "      <td>4.4659</td>\n",
       "      <td>189.1</td>\n",
       "      <td>218.635559</td>\n",
       "    </tr>\n",
       "    <tr>\n",
       "      <th>2</th>\n",
       "      <td>-121.30</td>\n",
       "      <td>38.60</td>\n",
       "      <td>32.0</td>\n",
       "      <td>9534.0</td>\n",
       "      <td>1819.0</td>\n",
       "      <td>4951.0</td>\n",
       "      <td>1710.0</td>\n",
       "      <td>3.3926</td>\n",
       "      <td>103.4</td>\n",
       "      <td>148.935181</td>\n",
       "    </tr>\n",
       "    <tr>\n",
       "      <th>3</th>\n",
       "      <td>-118.18</td>\n",
       "      <td>34.04</td>\n",
       "      <td>36.0</td>\n",
       "      <td>1807.0</td>\n",
       "      <td>630.0</td>\n",
       "      <td>2118.0</td>\n",
       "      <td>669.0</td>\n",
       "      <td>1.5500</td>\n",
       "      <td>129.0</td>\n",
       "      <td>115.627136</td>\n",
       "    </tr>\n",
       "    <tr>\n",
       "      <th>4</th>\n",
       "      <td>-121.63</td>\n",
       "      <td>38.04</td>\n",
       "      <td>25.0</td>\n",
       "      <td>2019.0</td>\n",
       "      <td>411.0</td>\n",
       "      <td>888.0</td>\n",
       "      <td>326.0</td>\n",
       "      <td>3.2619</td>\n",
       "      <td>183.8</td>\n",
       "      <td>163.309433</td>\n",
       "    </tr>\n",
       "  </tbody>\n",
       "</table>\n",
       "</div>"
      ],
      "text/plain": [
       "   longitude  latitude  housing_median_age  total_rooms  total_bedrooms  \\\n",
       "0    -117.89     33.94                20.0       3349.0           685.0   \n",
       "1    -122.14     37.69                38.0       1571.0           317.0   \n",
       "2    -121.30     38.60                32.0       9534.0          1819.0   \n",
       "3    -118.18     34.04                36.0       1807.0           630.0   \n",
       "4    -121.63     38.04                25.0       2019.0           411.0   \n",
       "\n",
       "   population  households  median_income  median_house_value  prediction  \n",
       "0      1822.0       675.0         4.7216               227.0  242.552048  \n",
       "1       874.0       301.0         4.4659               189.1  218.635559  \n",
       "2      4951.0      1710.0         3.3926               103.4  148.935181  \n",
       "3      2118.0       669.0         1.5500               129.0  115.627136  \n",
       "4       888.0       326.0         3.2619               183.8  163.309433  "
      ]
     },
     "execution_count": 7,
     "metadata": {},
     "output_type": "execute_result"
    }
   ],
   "source": [
    "#sampling data to test/validate on\n",
    "sample_df = training_df.sample(n=200, ignore_index=True)\n",
    "features = sample_df[my_feature]\n",
    "predictions = my_model.predict(features).ravel()\n",
    "sample_df[\"prediction\"] = predictions\n",
    "\n",
    "sample_df.head()"
   ]
  },
  {
   "cell_type": "code",
   "execution_count": 8,
   "metadata": {
    "collapsed": false,
    "pycharm": {
     "name": "#%%\n"
    }
   },
   "outputs": [
    {
     "data": {
      "image/png": "[encoded data removed]",
      "text/plain": [
       "<Figure size 640x480 with 1 Axes>"
      ]
     },
     "metadata": {},
     "output_type": "display_data"
    }
   ],
   "source": [
    "charts.plot_model_accuracy(sample_df, my_label, label=\"House prices\")\n"
   ]
  },
  {
   "cell_type": "code",
   "execution_count": 9,
   "metadata": {
    "collapsed": false,
    "pycharm": {
     "name": "#%%\n"
    }
   },
   "outputs": [
    {
     "data": {
      "text/plain": [
       "[array([[-1.2175361e+00],\n",
       "        [-3.2833991e+00],\n",
       "        [-1.7826201e-02],\n",
       "        [ 3.6702324e-02],\n",
       "        [-4.2429570e-02],\n",
       "        [ 1.7111513e-01],\n",
       "        [ 4.3773865e+01]], dtype=float32),\n",
       " array([0.13542433], dtype=float32)]"
      ]
     },
     "execution_count": 9,
     "metadata": {},
     "output_type": "execute_result"
    }
   ],
   "source": [
    "#weights per features\n",
    "weights = pd.DataFrame.from_dict({\n",
    "    \"feature\" : my_feature,\n",
    "    \"weight\" : my_model.get_weights()[0].ravel(),\n",
    "    \"correlation\" : training_df.corr()[\"median_house_value\"].filter(items=my_feature)\n",
    "})\n",
    "\n",
    "weights\n",
    "my_model.get_weights()"
   ]
  }
 ],
 "metadata": {
  "kernelspec": {
   "display_name": "Python 3",
   "language": "python",
   "name": "python3"
  },
  "language_info": {
   "codemirror_mode": {
    "name": "ipython",
    "version": 3
   },
   "file_extension": ".py",
   "mimetype": "text/x-python",
   "name": "python",
   "nbconvert_exporter": "python",
   "pygments_lexer": "ipython3",
   "version": "3.9.6"
  },
  "orig_nbformat": 4,
  "vscode": {
   "interpreter": {
    "hash": "31f2aee4e71d21fbe5cf8b01ff0e069b9275f58929596ceb00d14d90e3e16cd6"
   }
  }
 },
 "nbformat": 4,
 "nbformat_minor": 2
}
