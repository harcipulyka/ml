{
 "cells": [
  {
   "attachments": {},
   "cell_type": "markdown",
   "metadata": {},
   "source": [
    "# Normalizing data\n",
    "Main takeaways:\n",
    " - In this case Z-Score provided a real advantage, resulting in the best model so far\n",
    " - Higher learning rate is preferred with lower feature values\n",
    " - MinMax didn't provide an edge over the basic dataset\n",
    " \n",
    " Known limitations of this notebook:\n",
    " - no data preprocessing\n",
    " - no test-set-validation"
   ]
  },
  {
   "cell_type": "code",
   "execution_count": 1,
   "metadata": {
    "pycharm": {
     "name": "#%%\n"
    }
   },
   "outputs": [],
   "source": [
    "import pandas as pd\n",
    "import tensorflow as tf\n",
    "from matplotlib import pyplot as plt\n",
    "import seaborn as sns\n",
    "import numpy as np\n",
    "from helper import charts, lib\n",
    "\n",
    "from IPython.core.interactiveshell import InteractiveShell\n",
    "InteractiveShell.ast_node_interactivity = \"all\"\n",
    "\n",
    "import os\n",
    "os.environ['TF_CPP_MIN_LOG_LEVEL'] = '2'"
   ]
  },
  {
   "cell_type": "code",
   "execution_count": 2,
   "metadata": {
    "pycharm": {
     "name": "#%%\n"
    }
   },
   "outputs": [],
   "source": [
    "# Import the dataset.\n",
    "training_df = pd.read_csv(filepath_or_buffer=\"https://download.mlcc.google.com/mledu-datasets/california_housing_train.csv\")\n",
    "\n",
    "#scale the label\n",
    "training_df[\"median_house_value\"] /= 1000.0\n",
    "\n",
    "#set the label name early\n",
    "my_label=\"median_house_value\" # the median value of a house on a specific city block."
   ]
  },
  {
   "attachments": {},
   "cell_type": "markdown",
   "metadata": {},
   "source": [
    "### Normalizing data with 2 different types of normailization techniques\n",
    "\n",
    " - Min Max scaling\n",
    " - Z-score"
   ]
  },
  {
   "cell_type": "code",
   "execution_count": 3,
   "metadata": {},
   "outputs": [
    {
     "data": {
      "text/html": [
       "<div>\n",
       "<style scoped>\n",
       "    .dataframe tbody tr th:only-of-type {\n",
       "        vertical-align: middle;\n",
       "    }\n",
       "\n",
       "    .dataframe tbody tr th {\n",
       "        vertical-align: top;\n",
       "    }\n",
       "\n",
       "    .dataframe thead th {\n",
       "        text-align: right;\n",
       "    }\n",
       "</style>\n",
       "<table border=\"1\" class=\"dataframe\">\n",
       "  <thead>\n",
       "    <tr style=\"text-align: right;\">\n",
       "      <th></th>\n",
       "      <th>households</th>\n",
       "      <th>housing_median_age</th>\n",
       "      <th>latitude</th>\n",
       "      <th>longitude</th>\n",
       "      <th>median_house_value</th>\n",
       "      <th>median_income</th>\n",
       "      <th>population</th>\n",
       "      <th>total_bedrooms</th>\n",
       "      <th>total_rooms</th>\n",
       "    </tr>\n",
       "  </thead>\n",
       "  <tbody>\n",
       "    <tr>\n",
       "      <th>0</th>\n",
       "      <td>0.077454</td>\n",
       "      <td>0.274510</td>\n",
       "      <td>0.175345</td>\n",
       "      <td>1.000000</td>\n",
       "      <td>66.9</td>\n",
       "      <td>0.068530</td>\n",
       "      <td>0.028364</td>\n",
       "      <td>0.198945</td>\n",
       "      <td>0.147885</td>\n",
       "    </tr>\n",
       "    <tr>\n",
       "      <th>1</th>\n",
       "      <td>0.075974</td>\n",
       "      <td>0.352941</td>\n",
       "      <td>0.197662</td>\n",
       "      <td>0.984064</td>\n",
       "      <td>80.1</td>\n",
       "      <td>0.091040</td>\n",
       "      <td>0.031559</td>\n",
       "      <td>0.294848</td>\n",
       "      <td>0.201608</td>\n",
       "    </tr>\n",
       "    <tr>\n",
       "      <th>2</th>\n",
       "      <td>0.019076</td>\n",
       "      <td>0.313725</td>\n",
       "      <td>0.122210</td>\n",
       "      <td>0.975100</td>\n",
       "      <td>85.7</td>\n",
       "      <td>0.079378</td>\n",
       "      <td>0.009249</td>\n",
       "      <td>0.026847</td>\n",
       "      <td>0.018927</td>\n",
       "    </tr>\n",
       "    <tr>\n",
       "      <th>3</th>\n",
       "      <td>0.037000</td>\n",
       "      <td>0.254902</td>\n",
       "      <td>0.116897</td>\n",
       "      <td>0.974104</td>\n",
       "      <td>73.4</td>\n",
       "      <td>0.185639</td>\n",
       "      <td>0.014350</td>\n",
       "      <td>0.052142</td>\n",
       "      <td>0.039515</td>\n",
       "    </tr>\n",
       "    <tr>\n",
       "      <th>4</th>\n",
       "      <td>0.042921</td>\n",
       "      <td>0.372549</td>\n",
       "      <td>0.109458</td>\n",
       "      <td>0.974104</td>\n",
       "      <td>65.5</td>\n",
       "      <td>0.098281</td>\n",
       "      <td>0.017405</td>\n",
       "      <td>0.050435</td>\n",
       "      <td>0.038276</td>\n",
       "    </tr>\n",
       "  </tbody>\n",
       "</table>\n",
       "</div>"
      ],
      "text/plain": [
       "   households  housing_median_age  latitude  longitude  median_house_value  \\\n",
       "0    0.077454            0.274510  0.175345   1.000000                66.9   \n",
       "1    0.075974            0.352941  0.197662   0.984064                80.1   \n",
       "2    0.019076            0.313725  0.122210   0.975100                85.7   \n",
       "3    0.037000            0.254902  0.116897   0.974104                73.4   \n",
       "4    0.042921            0.372549  0.109458   0.974104                65.5   \n",
       "\n",
       "   median_income  population  total_bedrooms  total_rooms  \n",
       "0       0.068530    0.028364        0.198945     0.147885  \n",
       "1       0.091040    0.031559        0.294848     0.201608  \n",
       "2       0.079378    0.009249        0.026847     0.018927  \n",
       "3       0.185639    0.014350        0.052142     0.039515  \n",
       "4       0.098281    0.017405        0.050435     0.038276  "
      ]
     },
     "execution_count": 3,
     "metadata": {},
     "output_type": "execute_result"
    }
   ],
   "source": [
    "#Min Max scaling\n",
    "min_df = training_df.min()\n",
    "max_df = training_df.max()\n",
    "\n",
    "#Saving label column before normalizing\n",
    "label_column = training_df[my_label]\n",
    "labelless_df = training_df.drop(columns=my_label)\n",
    "\n",
    "#Normalizing\n",
    "minmax_df = (labelless_df - min_df) / (max_df - min_df)\n",
    "\n",
    "#Replacing label value\n",
    "minmax_df[my_label] = label_column\n",
    "\n",
    "minmax_df.head()"
   ]
  },
  {
   "cell_type": "code",
   "execution_count": 4,
   "metadata": {},
   "outputs": [
    {
     "data": {
      "text/html": [
       "<div>\n",
       "<style scoped>\n",
       "    .dataframe tbody tr th:only-of-type {\n",
       "        vertical-align: middle;\n",
       "    }\n",
       "\n",
       "    .dataframe tbody tr th {\n",
       "        vertical-align: top;\n",
       "    }\n",
       "\n",
       "    .dataframe thead th {\n",
       "        text-align: right;\n",
       "    }\n",
       "</style>\n",
       "<table border=\"1\" class=\"dataframe\">\n",
       "  <thead>\n",
       "    <tr style=\"text-align: right;\">\n",
       "      <th></th>\n",
       "      <th>longitude</th>\n",
       "      <th>latitude</th>\n",
       "      <th>housing_median_age</th>\n",
       "      <th>total_rooms</th>\n",
       "      <th>total_bedrooms</th>\n",
       "      <th>population</th>\n",
       "      <th>households</th>\n",
       "      <th>median_income</th>\n",
       "      <th>median_house_value</th>\n",
       "    </tr>\n",
       "  </thead>\n",
       "  <tbody>\n",
       "    <tr>\n",
       "      <th>0</th>\n",
       "      <td>2.619288</td>\n",
       "      <td>-0.671500</td>\n",
       "      <td>-1.079639</td>\n",
       "      <td>1.361655</td>\n",
       "      <td>1.764152</td>\n",
       "      <td>-0.361173</td>\n",
       "      <td>-0.075996</td>\n",
       "      <td>-1.252506</td>\n",
       "      <td>66.9</td>\n",
       "    </tr>\n",
       "    <tr>\n",
       "      <th>1</th>\n",
       "      <td>2.539494</td>\n",
       "      <td>-0.573248</td>\n",
       "      <td>-0.761850</td>\n",
       "      <td>2.296540</td>\n",
       "      <td>3.230346</td>\n",
       "      <td>-0.261858</td>\n",
       "      <td>-0.099401</td>\n",
       "      <td>-1.081451</td>\n",
       "      <td>80.1</td>\n",
       "    </tr>\n",
       "    <tr>\n",
       "      <th>2</th>\n",
       "      <td>2.494610</td>\n",
       "      <td>-0.905436</td>\n",
       "      <td>-0.920744</td>\n",
       "      <td>-0.882436</td>\n",
       "      <td>-0.866931</td>\n",
       "      <td>-0.955326</td>\n",
       "      <td>-0.999223</td>\n",
       "      <td>-1.170071</td>\n",
       "      <td>85.7</td>\n",
       "    </tr>\n",
       "    <tr>\n",
       "      <th>3</th>\n",
       "      <td>2.489623</td>\n",
       "      <td>-0.928830</td>\n",
       "      <td>-1.159087</td>\n",
       "      <td>-0.524171</td>\n",
       "      <td>-0.480216</td>\n",
       "      <td>-0.796769</td>\n",
       "      <td>-0.715753</td>\n",
       "      <td>-0.362590</td>\n",
       "      <td>73.4</td>\n",
       "    </tr>\n",
       "    <tr>\n",
       "      <th>4</th>\n",
       "      <td>2.489623</td>\n",
       "      <td>-0.961581</td>\n",
       "      <td>-0.682402</td>\n",
       "      <td>-0.545731</td>\n",
       "      <td>-0.506313</td>\n",
       "      <td>-0.701809</td>\n",
       "      <td>-0.622130</td>\n",
       "      <td>-1.026424</td>\n",
       "      <td>65.5</td>\n",
       "    </tr>\n",
       "  </tbody>\n",
       "</table>\n",
       "</div>"
      ],
      "text/plain": [
       "   longitude  latitude  housing_median_age  total_rooms  total_bedrooms  \\\n",
       "0   2.619288 -0.671500           -1.079639     1.361655        1.764152   \n",
       "1   2.539494 -0.573248           -0.761850     2.296540        3.230346   \n",
       "2   2.494610 -0.905436           -0.920744    -0.882436       -0.866931   \n",
       "3   2.489623 -0.928830           -1.159087    -0.524171       -0.480216   \n",
       "4   2.489623 -0.961581           -0.682402    -0.545731       -0.506313   \n",
       "\n",
       "   population  households  median_income  median_house_value  \n",
       "0   -0.361173   -0.075996      -1.252506                66.9  \n",
       "1   -0.261858   -0.099401      -1.081451                80.1  \n",
       "2   -0.955326   -0.999223      -1.170071                85.7  \n",
       "3   -0.796769   -0.715753      -0.362590                73.4  \n",
       "4   -0.701809   -0.622130      -1.026424                65.5  "
      ]
     },
     "execution_count": 4,
     "metadata": {},
     "output_type": "execute_result"
    }
   ],
   "source": [
    "#Normalizing using Z-score\n",
    "mean_df = labelless_df.mean()\n",
    "std_df = labelless_df.std()\n",
    "\n",
    "z_df = (labelless_df - mean_df)/std_df\n",
    "\n",
    "z_df[my_label] = label_column\n",
    "z_df.head()"
   ]
  },
  {
   "cell_type": "code",
   "execution_count": 5,
   "metadata": {
    "collapsed": false,
    "pycharm": {
     "name": "#%%\n"
    }
   },
   "outputs": [],
   "source": [
    "def build_model(my_learning_rate):\n",
    "  \"\"\"Create and compile a simple linear regression model.\"\"\"\n",
    "  # Most simple tf.keras models are sequential.\n",
    "  model = tf.keras.models.Sequential()\n",
    "\n",
    "  # Describe the topography of the model.\n",
    "  # The topography of a simple linear regression model\n",
    "  # is a single node in a single layer.\n",
    "  model.add(tf.keras.layers.Dense(units=1, \n",
    "                                  input_shape=(6,)))\n",
    "\n",
    "  # Compile the model topography into code that TensorFlow can efficiently\n",
    "  # execute. Configure training to minimize the model's mean squared error. \n",
    "  model.compile(optimizer=tf.keras.optimizers.Adam(learning_rate=my_learning_rate),\n",
    "                loss=\"mean_squared_error\",\n",
    "                metrics=[tf.keras.metrics.RootMeanSquaredError()])\n",
    "\n",
    "  return model        \n",
    "\n",
    "\n",
    "def train_model(model, training_df, feature, label, epochs, batch_size):\n",
    "  \"\"\"Train the model by feeding it data.\"\"\"\n",
    "\n",
    "  # Feed the model the feature and the label.\n",
    "  # The model will train for the specified number of epochs. \n",
    "  history = model.fit(\n",
    "    x=training_df[feature],\n",
    "    y=training_df[label],\n",
    "    batch_size=batch_size,\n",
    "    epochs=epochs)\n",
    "\n",
    "  return history"
   ]
  },
  {
   "cell_type": "code",
   "execution_count": 6,
   "metadata": {
    "collapsed": false,
    "pycharm": {
     "name": "#%%\n"
    }
   },
   "outputs": [],
   "source": [
    "# Specify the feature and the label.\n",
    "my_feature = [\"longitude\", \"latitude\", \"total_rooms\", \"total_bedrooms\", \"population\", \"households\"]"
   ]
  },
  {
   "cell_type": "code",
   "execution_count": 29,
   "metadata": {},
   "outputs": [
    {
     "name": "stdout",
     "output_type": "stream",
     "text": [
      "Epoch 1/20\n",
      "266/266 [==============================] - 2s 6ms/step - loss: 309457.8125 - root_mean_squared_error: 556.2894\n",
      "Epoch 2/20\n",
      "266/266 [==============================] - 1s 5ms/step - loss: 204529.8906 - root_mean_squared_error: 452.2498\n",
      "Epoch 3/20\n",
      "266/266 [==============================] - 1s 5ms/step - loss: 161968.4531 - root_mean_squared_error: 402.4530\n",
      "Epoch 4/20\n",
      "266/266 [==============================] - 1s 5ms/step - loss: 125062.6016 - root_mean_squared_error: 353.6419\n",
      "Epoch 5/20\n",
      "266/266 [==============================] - 1s 5ms/step - loss: 94458.1719 - root_mean_squared_error: 307.3405\n",
      "Epoch 6/20\n",
      "266/266 [==============================] - 1s 5ms/step - loss: 70396.1562 - root_mean_squared_error: 265.3228\n",
      "Epoch 7/20\n",
      "266/266 [==============================] - 1s 5ms/step - loss: 52374.0938 - root_mean_squared_error: 228.8539\n",
      "Epoch 8/20\n",
      "266/266 [==============================] - 1s 5ms/step - loss: 38713.9961 - root_mean_squared_error: 196.7587\n",
      "Epoch 9/20\n",
      "266/266 [==============================] - 1s 5ms/step - loss: 29175.3867 - root_mean_squared_error: 170.8080\n",
      "Epoch 10/20\n",
      "266/266 [==============================] - 1s 5ms/step - loss: 22559.4062 - root_mean_squared_error: 150.1979\n",
      "Epoch 11/20\n",
      "266/266 [==============================] - 1s 5ms/step - loss: 18273.7070 - root_mean_squared_error: 135.1803\n",
      "Epoch 12/20\n",
      "266/266 [==============================] - 1s 5ms/step - loss: 15599.7539 - root_mean_squared_error: 124.8990\n",
      "Epoch 13/20\n",
      "266/266 [==============================] - 1s 5ms/step - loss: 14061.7002 - root_mean_squared_error: 118.5820\n",
      "Epoch 14/20\n",
      "266/266 [==============================] - 1s 5ms/step - loss: 13206.7998 - root_mean_squared_error: 114.9208\n",
      "Epoch 15/20\n",
      "266/266 [==============================] - 1s 5ms/step - loss: 12771.5967 - root_mean_squared_error: 113.0115\n",
      "Epoch 16/20\n",
      "266/266 [==============================] - 1s 5ms/step - loss: 12506.6924 - root_mean_squared_error: 111.8333\n",
      "Epoch 17/20\n",
      "266/266 [==============================] - 1s 5ms/step - loss: 12379.0547 - root_mean_squared_error: 111.2612\n",
      "Epoch 18/20\n",
      "266/266 [==============================] - 1s 5ms/step - loss: 12303.5156 - root_mean_squared_error: 110.9212\n",
      "Epoch 19/20\n",
      "266/266 [==============================] - 1s 5ms/step - loss: 12231.1777 - root_mean_squared_error: 110.5947\n",
      "Epoch 20/20\n",
      "266/266 [==============================] - 1s 5ms/step - loss: 12201.6748 - root_mean_squared_error: 110.4612\n"
     ]
    }
   ],
   "source": [
    "# Hyperparameters for not normalized dataset\n",
    "learning_rate = 0.001\n",
    "epoch_count = 20\n",
    "batch_size = 64\n",
    "\n",
    "# Build model\n",
    "basic_model = build_model(learning_rate)\n",
    "normal_history = train_model(basic_model, training_df, my_feature, my_label, epoch_count, batch_size)"
   ]
  },
  {
   "cell_type": "code",
   "execution_count": 25,
   "metadata": {},
   "outputs": [
    {
     "name": "stdout",
     "output_type": "stream",
     "text": [
      "Epoch 1/20\n",
      "266/266 [==============================] - 2s 6ms/step - loss: 39029.6133 - root_mean_squared_error: 197.5591\n",
      "Epoch 2/20\n",
      "266/266 [==============================] - 1s 5ms/step - loss: 20424.7363 - root_mean_squared_error: 142.9151\n",
      "Epoch 3/20\n",
      "266/266 [==============================] - 1s 5ms/step - loss: 15436.4375 - root_mean_squared_error: 124.2435\n",
      "Epoch 4/20\n",
      "266/266 [==============================] - 1s 5ms/step - loss: 14574.9824 - root_mean_squared_error: 120.7269\n",
      "Epoch 5/20\n",
      "266/266 [==============================] - 1s 5ms/step - loss: 14430.4785 - root_mean_squared_error: 120.1269\n",
      "Epoch 6/20\n",
      "266/266 [==============================] - 1s 5ms/step - loss: 14356.7881 - root_mean_squared_error: 119.8198\n",
      "Epoch 7/20\n",
      "266/266 [==============================] - 1s 5ms/step - loss: 14283.2725 - root_mean_squared_error: 119.5126\n",
      "Epoch 8/20\n",
      "266/266 [==============================] - 1s 5ms/step - loss: 14207.6504 - root_mean_squared_error: 119.1958\n",
      "Epoch 9/20\n",
      "266/266 [==============================] - 1s 5ms/step - loss: 14130.0479 - root_mean_squared_error: 118.8699\n",
      "Epoch 10/20\n",
      "266/266 [==============================] - 1s 5ms/step - loss: 14050.7979 - root_mean_squared_error: 118.5361\n",
      "Epoch 11/20\n",
      "266/266 [==============================] - 1s 5ms/step - loss: 13968.0576 - root_mean_squared_error: 118.1865\n",
      "Epoch 12/20\n",
      "266/266 [==============================] - 1s 5ms/step - loss: 13879.9092 - root_mean_squared_error: 117.8130\n",
      "Epoch 13/20\n",
      "266/266 [==============================] - 1s 5ms/step - loss: 13786.6191 - root_mean_squared_error: 117.4164\n",
      "Epoch 14/20\n",
      "266/266 [==============================] - 1s 5ms/step - loss: 13691.3174 - root_mean_squared_error: 117.0099\n",
      "Epoch 15/20\n",
      "266/266 [==============================] - 1s 5ms/step - loss: 13588.4414 - root_mean_squared_error: 116.5695\n",
      "Epoch 16/20\n",
      "266/266 [==============================] - 1s 5ms/step - loss: 13483.6465 - root_mean_squared_error: 116.1191\n",
      "Epoch 17/20\n",
      "266/266 [==============================] - 1s 5ms/step - loss: 13374.7520 - root_mean_squared_error: 115.6493\n",
      "Epoch 18/20\n",
      "266/266 [==============================] - 1s 5ms/step - loss: 13264.5801 - root_mean_squared_error: 115.1720\n",
      "Epoch 19/20\n",
      "266/266 [==============================] - 1s 5ms/step - loss: 13150.3828 - root_mean_squared_error: 114.6751\n",
      "Epoch 20/20\n",
      "266/266 [==============================] - 1s 5ms/step - loss: 13039.1611 - root_mean_squared_error: 114.1892\n"
     ]
    }
   ],
   "source": [
    "# Hyperparameters for min max scaled dataset\n",
    "learning_rate = 0.15\n",
    "epoch_count = 20\n",
    "batch_size = 64\n",
    "\n",
    "# Build model\n",
    "minmax_model = build_model(learning_rate)\n",
    "minmax_history = train_model(minmax_model, minmax_df, my_feature, my_label, epoch_count, batch_size)"
   ]
  },
  {
   "cell_type": "code",
   "execution_count": 21,
   "metadata": {},
   "outputs": [
    {
     "name": "stdout",
     "output_type": "stream",
     "text": [
      "Epoch 1/20\n",
      "532/532 [==============================] - 3s 5ms/step - loss: 42129.9766 - root_mean_squared_error: 205.2559\n",
      "Epoch 2/20\n",
      "532/532 [==============================] - 3s 5ms/step - loss: 22918.8555 - root_mean_squared_error: 151.3898\n",
      "Epoch 3/20\n",
      "532/532 [==============================] - 3s 5ms/step - loss: 13869.1562 - root_mean_squared_error: 117.7674\n",
      "Epoch 4/20\n",
      "532/532 [==============================] - 3s 5ms/step - loss: 10373.9639 - root_mean_squared_error: 101.8527\n",
      "Epoch 5/20\n",
      "532/532 [==============================] - 3s 5ms/step - loss: 9212.1182 - root_mean_squared_error: 95.9798\n",
      "Epoch 6/20\n",
      "532/532 [==============================] - 3s 5ms/step - loss: 8789.9355 - root_mean_squared_error: 93.7547\n",
      "Epoch 7/20\n",
      "532/532 [==============================] - 3s 5ms/step - loss: 8583.1436 - root_mean_squared_error: 92.6453\n",
      "Epoch 8/20\n",
      "532/532 [==============================] - 3s 5ms/step - loss: 8471.7119 - root_mean_squared_error: 92.0419\n",
      "Epoch 9/20\n",
      "532/532 [==============================] - 3s 5ms/step - loss: 8410.9316 - root_mean_squared_error: 91.7111\n",
      "Epoch 10/20\n",
      "532/532 [==============================] - 3s 5ms/step - loss: 8379.3086 - root_mean_squared_error: 91.5386\n",
      "Epoch 11/20\n",
      "532/532 [==============================] - 3s 5ms/step - loss: 8355.5078 - root_mean_squared_error: 91.4085\n",
      "Epoch 12/20\n",
      "532/532 [==============================] - 3s 6ms/step - loss: 8338.9570 - root_mean_squared_error: 91.3179\n",
      "Epoch 13/20\n",
      "532/532 [==============================] - 3s 5ms/step - loss: 8336.3223 - root_mean_squared_error: 91.3035\n",
      "Epoch 14/20\n",
      "532/532 [==============================] - 3s 5ms/step - loss: 8337.5605 - root_mean_squared_error: 91.3102\n",
      "Epoch 15/20\n",
      "532/532 [==============================] - 3s 5ms/step - loss: 8331.5898 - root_mean_squared_error: 91.2775\n",
      "Epoch 16/20\n",
      "532/532 [==============================] - 3s 5ms/step - loss: 8326.4404 - root_mean_squared_error: 91.2493\n",
      "Epoch 17/20\n",
      "532/532 [==============================] - 3s 5ms/step - loss: 8328.3818 - root_mean_squared_error: 91.2600\n",
      "Epoch 18/20\n",
      "532/532 [==============================] - 3s 5ms/step - loss: 8320.3223 - root_mean_squared_error: 91.2158\n",
      "Epoch 19/20\n",
      "532/532 [==============================] - 3s 6ms/step - loss: 8328.4336 - root_mean_squared_error: 91.2603\n",
      "Epoch 20/20\n",
      "532/532 [==============================] - 3s 5ms/step - loss: 8323.7402 - root_mean_squared_error: 91.2345\n"
     ]
    }
   ],
   "source": [
    "# Hyperparameters for Z-score normalized values\n",
    "learning_rate = 0.15\n",
    "epoch_count = 20\n",
    "batch_size = 64\n",
    "\n",
    "# Build model\n",
    "z_model = build_model(learning_rate)\n",
    "z_history = train_model(z_model, z_df, my_feature, my_label, epoch_count, batch_size)"
   ]
  },
  {
   "cell_type": "code",
   "execution_count": 30,
   "metadata": {},
   "outputs": [],
   "source": [
    "#examining history\n",
    "rmse = \"root_mean_squared_error\"\n",
    "\n",
    "normal_hist = pd.DataFrame(normal_history.history)\n",
    "z_hist = pd.DataFrame(z_history.history)\n",
    "minmax_hist = pd.DataFrame(minmax_history.history)\n",
    "\n",
    "basic_key = \"No normalization\"\n",
    "z_key = \"Z-Score normalization\"\n",
    "minmax_key = \"Min-Max normalization\"\n",
    "\n",
    "keys = [basic_key, z_key, minmax_key]\n",
    "\n",
    "together_df = pd.DataFrame({\n",
    "    z_key : z_hist[rmse],\n",
    "    minmax_key : minmax_hist[rmse],\n",
    "    basic_key : normal_hist[rmse]\n",
    "})"
   ]
  },
  {
   "cell_type": "code",
   "execution_count": 32,
   "metadata": {},
   "outputs": [
    {
     "data": {
      "image/png": "[encoded data removed]",
      "text/plain": [
       "<Figure size 640x480 with 1 Axes>"
      ]
     },
     "metadata": {},
     "output_type": "display_data"
    }
   ],
   "source": [
    "#plotting basic rmse history of the three different methods\n",
    "charts.plot_training_losses(losses=[z_key, minmax_key, basic_key], df=together_df)"
   ]
  },
  {
   "cell_type": "code",
   "execution_count": 33,
   "metadata": {},
   "outputs": [
    {
     "name": "stdout",
     "output_type": "stream",
     "text": [
      "No normalization metrics:\n",
      "532/532 [==============================] - 2s 4ms/step - loss: 12156.5098 - root_mean_squared_error: 110.2566\n",
      "Z-Score normalization metrics:\n",
      "532/532 [==============================] - 2s 4ms/step - loss: 8319.0557 - root_mean_squared_error: 91.2089\n",
      "Min-Max normalization metrics:\n",
      "532/532 [==============================] - 2s 4ms/step - loss: 12977.9951 - root_mean_squared_error: 113.9210\n"
     ]
    }
   ],
   "source": [
    "print(\"No normalization metrics:\")\n",
    "training_eval = basic_model.evaluate(training_df[my_feature], training_df[my_label])\n",
    "\n",
    "print(\"Z-Score normalization metrics:\")\n",
    "validate_eval = z_model.evaluate(z_df[my_feature], z_df[my_label])\n",
    "\n",
    "print(\"Min-Max normalization metrics:\")\n",
    "test_eval = minmax_model.evaluate(minmax_df[my_feature], minmax_df[my_label])"
   ]
  },
  {
   "cell_type": "code",
   "execution_count": 34,
   "metadata": {
    "collapsed": false,
    "pycharm": {
     "name": "#%%\n"
    }
   },
   "outputs": [
    {
     "name": "stdout",
     "output_type": "stream",
     "text": [
      "7/7 [==============================] - 0s 2ms/step\n",
      "7/7 [==============================] - 0s 2ms/step\n",
      "7/7 [==============================] - 0s 2ms/step\n"
     ]
    }
   ],
   "source": [
    "#sampling data\n",
    "sample_normal = lib.create_inference_sample(training_df, my_feature, basic_model)\n",
    "sample_z = lib.create_inference_sample(z_df, my_feature, z_model)\n",
    "sample_minmax = lib.create_inference_sample(minmax_df, my_feature, minmax_model)"
   ]
  },
  {
   "cell_type": "code",
   "execution_count": 35,
   "metadata": {
    "collapsed": false,
    "pycharm": {
     "name": "#%%\n"
    }
   },
   "outputs": [
    {
     "data": {
      "image/png": "[encoded data removed]",
      "text/plain": [
       "<Figure size 1500x500 with 3 Axes>"
      ]
     },
     "metadata": {},
     "output_type": "display_data"
    }
   ],
   "source": [
    "charts.plot_training_test_validat_accuracy(\n",
    "    dfs=[sample_normal, sample_z, sample_minmax],\n",
    "    label_key=my_label,\n",
    "    titles=keys\n",
    ")"
   ]
  },
  {
   "cell_type": "code",
   "execution_count": 36,
   "metadata": {
    "collapsed": false,
    "pycharm": {
     "name": "#%%\n"
    }
   },
   "outputs": [
    {
     "data": {
      "text/html": [
       "<div>\n",
       "<style scoped>\n",
       "    .dataframe tbody tr th:only-of-type {\n",
       "        vertical-align: middle;\n",
       "    }\n",
       "\n",
       "    .dataframe tbody tr th {\n",
       "        vertical-align: top;\n",
       "    }\n",
       "\n",
       "    .dataframe thead th {\n",
       "        text-align: right;\n",
       "    }\n",
       "</style>\n",
       "<table border=\"1\" class=\"dataframe\">\n",
       "  <thead>\n",
       "    <tr style=\"text-align: right;\">\n",
       "      <th></th>\n",
       "      <th>feature</th>\n",
       "      <th>No normalization</th>\n",
       "      <th>Z-Score normalization</th>\n",
       "      <th>Min-Max normalization</th>\n",
       "    </tr>\n",
       "  </thead>\n",
       "  <tbody>\n",
       "    <tr>\n",
       "      <th>0</th>\n",
       "      <td>longitude</td>\n",
       "      <td>-1.222735</td>\n",
       "      <td>-149.968597</td>\n",
       "      <td>9.424031</td>\n",
       "    </tr>\n",
       "    <tr>\n",
       "      <th>1</th>\n",
       "      <td>latitude</td>\n",
       "      <td>1.542251</td>\n",
       "      <td>-157.948029</td>\n",
       "      <td>-29.885437</td>\n",
       "    </tr>\n",
       "    <tr>\n",
       "      <th>2</th>\n",
       "      <td>total_rooms</td>\n",
       "      <td>0.040511</td>\n",
       "      <td>99.809044</td>\n",
       "      <td>224.280319</td>\n",
       "    </tr>\n",
       "    <tr>\n",
       "      <th>3</th>\n",
       "      <td>total_bedrooms</td>\n",
       "      <td>-0.100004</td>\n",
       "      <td>-49.410770</td>\n",
       "      <td>-0.406265</td>\n",
       "    </tr>\n",
       "    <tr>\n",
       "      <th>4</th>\n",
       "      <td>population</td>\n",
       "      <td>-0.046657</td>\n",
       "      <td>-70.594872</td>\n",
       "      <td>-180.162720</td>\n",
       "    </tr>\n",
       "    <tr>\n",
       "      <th>5</th>\n",
       "      <td>households</td>\n",
       "      <td>0.036134</td>\n",
       "      <td>22.894577</td>\n",
       "      <td>51.638165</td>\n",
       "    </tr>\n",
       "  </tbody>\n",
       "</table>\n",
       "</div>"
      ],
      "text/plain": [
       "          feature  No normalization  Z-Score normalization  \\\n",
       "0       longitude         -1.222735            -149.968597   \n",
       "1        latitude          1.542251            -157.948029   \n",
       "2     total_rooms          0.040511              99.809044   \n",
       "3  total_bedrooms         -0.100004             -49.410770   \n",
       "4      population         -0.046657             -70.594872   \n",
       "5      households          0.036134              22.894577   \n",
       "\n",
       "   Min-Max normalization  \n",
       "0               9.424031  \n",
       "1             -29.885437  \n",
       "2             224.280319  \n",
       "3              -0.406265  \n",
       "4            -180.162720  \n",
       "5              51.638165  "
      ]
     },
     "execution_count": 36,
     "metadata": {},
     "output_type": "execute_result"
    }
   ],
   "source": [
    "#weights per features\n",
    "weights = pd.DataFrame.from_dict({\n",
    "    \"feature\" : my_feature,\n",
    "    basic_key : basic_model.get_weights()[0].ravel(),\n",
    "    z_key : z_model.get_weights()[0].ravel(),\n",
    "    minmax_key : minmax_model.get_weights()[0].ravel(),\n",
    "})\n",
    "\n",
    "weights"
   ]
  }
 ],
 "metadata": {
  "kernelspec": {
   "display_name": "Python 3",
   "language": "python",
   "name": "python3"
  },
  "language_info": {
   "codemirror_mode": {
    "name": "ipython",
    "version": 3
   },
   "file_extension": ".py",
   "mimetype": "text/x-python",
   "name": "python",
   "nbconvert_exporter": "python",
   "pygments_lexer": "ipython3",
   "version": "3.9.6"
  },
  "orig_nbformat": 4,
  "vscode": {
   "interpreter": {
    "hash": "31f2aee4e71d21fbe5cf8b01ff0e069b9275f58929596ceb00d14d90e3e16cd6"
   }
  }
 },
 "nbformat": 4,
 "nbformat_minor": 2
}
