{
 "cells": [
  {
   "cell_type": "code",
   "execution_count": 1,
   "metadata": {
    "pycharm": {
     "name": "#%%\n"
    }
   },
   "outputs": [],
   "source": [
    "import pandas as pd\n",
    "import tensorflow as tf\n",
    "from matplotlib import pyplot as plt\n",
    "import seaborn as sns\n",
    "import numpy as np\n",
    "from helper import charts"
   ]
  },
  {
   "cell_type": "code",
   "execution_count": 2,
   "metadata": {
    "pycharm": {
     "name": "#%%\n"
    }
   },
   "outputs": [],
   "source": [
    "# Import the dataset.\n",
    "training_df = pd.read_csv(filepath_or_buffer=\"https://download.mlcc.google.com/mledu-datasets/california_housing_train.csv\")\n",
    "\n",
    "# Scale the label.\n",
    "training_df[\"median_house_value\"] /= 1000.0"
   ]
  },
  {
   "cell_type": "code",
   "execution_count": 3,
   "metadata": {
    "collapsed": false,
    "pycharm": {
     "name": "#%%\n"
    }
   },
   "outputs": [],
   "source": [
    "def build_model(my_learning_rate):\n",
    "  \"\"\"Create and compile a simple linear regression model.\"\"\"\n",
    "  # Most simple tf.keras models are sequential.\n",
    "  model = tf.keras.models.Sequential()\n",
    "\n",
    "  # Describe the topography of the model.\n",
    "  # The topography of a simple linear regression model\n",
    "  # is a single node in a single layer.\n",
    "  model.add(tf.keras.layers.Dense(units=1, \n",
    "                                  input_shape=(6,)))\n",
    "\n",
    "  # Compile the model topography into code that TensorFlow can efficiently\n",
    "  # execute. Configure training to minimize the model's mean squared error. \n",
    "  model.compile(optimizer=tf.keras.optimizers.Adam(learning_rate=my_learning_rate),\n",
    "                loss=\"mean_squared_error\",\n",
    "                metrics=[tf.keras.metrics.RootMeanSquaredError()])\n",
    "\n",
    "  return model        \n",
    "\n",
    "\n",
    "def train_model(model, df, feature, label, epochs, batch_size):\n",
    "  \"\"\"Train the model by feeding it data.\"\"\"\n",
    "\n",
    "  # Feed the model the feature and the label.\n",
    "  # The model will train for the specified number of epochs. \n",
    "  history = model.fit(x=df[feature], y=df[label], batch_size=batch_size, epochs=epochs)\n",
    "\n",
    "  return history"
   ]
  },
  {
   "cell_type": "code",
   "execution_count": 4,
   "metadata": {
    "collapsed": false,
    "pycharm": {
     "name": "#%%\n"
    }
   },
   "outputs": [
    {
     "name": "stdout",
     "output_type": "stream",
     "text": [
      "Epoch 1/50\n",
      "266/266 [==============================] - 1s 1ms/step - loss: 1979573.6250 - root_mean_squared_error: 1406.9733\n",
      "Epoch 2/50\n",
      "266/266 [==============================] - 0s 1ms/step - loss: 219527.8906 - root_mean_squared_error: 468.5380\n",
      "Epoch 3/50\n",
      "266/266 [==============================] - 0s 1ms/step - loss: 30644.1758 - root_mean_squared_error: 175.0548\n",
      "Epoch 4/50\n",
      "266/266 [==============================] - 0s 932us/step - loss: 23136.8086 - root_mean_squared_error: 152.1079\n",
      "Epoch 5/50\n",
      "266/266 [==============================] - 0s 872us/step - loss: 22318.1875 - root_mean_squared_error: 149.3927\n",
      "Epoch 6/50\n",
      "266/266 [==============================] - 0s 1ms/step - loss: 21474.9863 - root_mean_squared_error: 146.5435\n",
      "Epoch 7/50\n",
      "266/266 [==============================] - 0s 951us/step - loss: 20559.9043 - root_mean_squared_error: 143.3873\n",
      "Epoch 8/50\n",
      "266/266 [==============================] - 0s 1ms/step - loss: 19621.8242 - root_mean_squared_error: 140.0779\n",
      "Epoch 9/50\n",
      "266/266 [==============================] - 0s 1ms/step - loss: 18640.0000 - root_mean_squared_error: 136.5284\n",
      "Epoch 10/50\n",
      "266/266 [==============================] - 0s 902us/step - loss: 17671.9043 - root_mean_squared_error: 132.9357\n",
      "Epoch 11/50\n",
      "266/266 [==============================] - 0s 925us/step - loss: 16724.7480 - root_mean_squared_error: 129.3242\n",
      "Epoch 12/50\n",
      "266/266 [==============================] - 0s 1ms/step - loss: 15835.8984 - root_mean_squared_error: 125.8408\n",
      "Epoch 13/50\n",
      "266/266 [==============================] - 0s 875us/step - loss: 15014.9482 - root_mean_squared_error: 122.5355\n",
      "Epoch 14/50\n",
      "266/266 [==============================] - 0s 1ms/step - loss: 14301.0322 - root_mean_squared_error: 119.5869\n",
      "Epoch 15/50\n",
      "266/266 [==============================] - 0s 1ms/step - loss: 13656.8877 - root_mean_squared_error: 116.8627\n",
      "Epoch 16/50\n",
      "266/266 [==============================] - 0s 902us/step - loss: 13157.5068 - root_mean_squared_error: 114.7062\n",
      "Epoch 17/50\n",
      "266/266 [==============================] - 0s 902us/step - loss: 12757.7842 - root_mean_squared_error: 112.9504\n",
      "Epoch 18/50\n",
      "266/266 [==============================] - 0s 1ms/step - loss: 12444.2285 - root_mean_squared_error: 111.5537\n",
      "Epoch 19/50\n",
      "266/266 [==============================] - 0s 2ms/step - loss: 12226.1523 - root_mean_squared_error: 110.5719\n",
      "Epoch 20/50\n",
      "266/266 [==============================] - 0s 1ms/step - loss: 12071.6133 - root_mean_squared_error: 109.8709\n",
      "Epoch 21/50\n",
      "266/266 [==============================] - 0s 1ms/step - loss: 11960.2119 - root_mean_squared_error: 109.3628\n",
      "Epoch 22/50\n",
      "266/266 [==============================] - 0s 943us/step - loss: 11956.6680 - root_mean_squared_error: 109.3465\n",
      "Epoch 23/50\n",
      "266/266 [==============================] - 0s 1ms/step - loss: 11894.3428 - root_mean_squared_error: 109.0612\n",
      "Epoch 24/50\n",
      "266/266 [==============================] - 0s 883us/step - loss: 11875.2041 - root_mean_squared_error: 108.9734\n",
      "Epoch 25/50\n",
      "266/266 [==============================] - 0s 898us/step - loss: 11881.1523 - root_mean_squared_error: 109.0007\n",
      "Epoch 26/50\n",
      "266/266 [==============================] - 0s 1ms/step - loss: 11878.9736 - root_mean_squared_error: 108.9907\n",
      "Epoch 27/50\n",
      "266/266 [==============================] - 0s 1ms/step - loss: 11867.8711 - root_mean_squared_error: 108.9398\n",
      "Epoch 28/50\n",
      "266/266 [==============================] - 0s 913us/step - loss: 11846.4727 - root_mean_squared_error: 108.8415\n",
      "Epoch 29/50\n",
      "266/266 [==============================] - 0s 943us/step - loss: 11853.6348 - root_mean_squared_error: 108.8744\n",
      "Epoch 30/50\n",
      "266/266 [==============================] - 0s 898us/step - loss: 11834.7529 - root_mean_squared_error: 108.7877\n",
      "Epoch 31/50\n",
      "266/266 [==============================] - 0s 902us/step - loss: 11848.1338 - root_mean_squared_error: 108.8491\n",
      "Epoch 32/50\n",
      "266/266 [==============================] - 0s 891us/step - loss: 11846.8594 - root_mean_squared_error: 108.8433\n",
      "Epoch 33/50\n",
      "266/266 [==============================] - 0s 906us/step - loss: 11829.7344 - root_mean_squared_error: 108.7646\n",
      "Epoch 34/50\n",
      "266/266 [==============================] - 0s 940us/step - loss: 11816.9238 - root_mean_squared_error: 108.7057\n",
      "Epoch 35/50\n",
      "266/266 [==============================] - 0s 1ms/step - loss: 11815.4062 - root_mean_squared_error: 108.6987\n",
      "Epoch 36/50\n",
      "266/266 [==============================] - 0s 966us/step - loss: 11814.0625 - root_mean_squared_error: 108.6925\n",
      "Epoch 37/50\n",
      "266/266 [==============================] - 0s 1ms/step - loss: 11839.6836 - root_mean_squared_error: 108.8103\n",
      "Epoch 38/50\n",
      "266/266 [==============================] - 0s 932us/step - loss: 11805.8652 - root_mean_squared_error: 108.6548\n",
      "Epoch 39/50\n",
      "266/266 [==============================] - 0s 955us/step - loss: 11786.6592 - root_mean_squared_error: 108.5664\n",
      "Epoch 40/50\n",
      "266/266 [==============================] - 0s 943us/step - loss: 11817.9912 - root_mean_squared_error: 108.7106\n",
      "Epoch 41/50\n",
      "266/266 [==============================] - 0s 917us/step - loss: 11794.7969 - root_mean_squared_error: 108.6039\n",
      "Epoch 42/50\n",
      "266/266 [==============================] - 0s 943us/step - loss: 11787.6182 - root_mean_squared_error: 108.5708\n",
      "Epoch 43/50\n",
      "266/266 [==============================] - 0s 1ms/step - loss: 11800.7910 - root_mean_squared_error: 108.6314\n",
      "Epoch 44/50\n",
      "266/266 [==============================] - 0s 917us/step - loss: 11778.3467 - root_mean_squared_error: 108.5281\n",
      "Epoch 45/50\n",
      "266/266 [==============================] - 0s 996us/step - loss: 11794.5684 - root_mean_squared_error: 108.6028\n",
      "Epoch 46/50\n",
      "266/266 [==============================] - 0s 1000us/step - loss: 11786.7236 - root_mean_squared_error: 108.5667\n",
      "Epoch 47/50\n",
      "266/266 [==============================] - 0s 989us/step - loss: 11760.7539 - root_mean_squared_error: 108.4470\n",
      "Epoch 48/50\n",
      "266/266 [==============================] - 0s 940us/step - loss: 11750.1445 - root_mean_squared_error: 108.3981\n",
      "Epoch 49/50\n",
      "266/266 [==============================] - 0s 966us/step - loss: 11778.2471 - root_mean_squared_error: 108.5276\n",
      "Epoch 50/50\n",
      "266/266 [==============================] - 0s 943us/step - loss: 11752.7900 - root_mean_squared_error: 108.4103\n"
     ]
    }
   ],
   "source": [
    "# The following variables are the hyperparameters.\n",
    "learning_rate = 0.001\n",
    "epoch_count = 50\n",
    "batch_size = 64\n",
    "\n",
    "# Specify the feature and the label.\n",
    "my_feature = [\"longitude\", \"latitude\", \"total_rooms\", \"total_bedrooms\", \"population\", \"households\"]\n",
    "my_label=\"median_house_value\" # the median value of a house on a specific city block.\n",
    "# That is, you're going to create a model that predicts house value based \n",
    "# solely on total_rooms.  \n",
    "\n",
    "# Invoke the functions.\n",
    "my_model = build_model(learning_rate)\n",
    "history = train_model(my_model, training_df, my_feature, my_label, epoch_count, batch_size)"
   ]
  },
  {
   "cell_type": "code",
   "execution_count": 5,
   "metadata": {},
   "outputs": [
    {
     "data": {
      "image/png": "[encoded data removed]",
      "text/plain": [
       "<Figure size 640x480 with 1 Axes>"
      ]
     },
     "metadata": {},
     "output_type": "display_data"
    }
   ],
   "source": [
    "#saving history and epcohs to dataframe\n",
    "epochs = history.epoch\n",
    "hist = pd.DataFrame(history.history)\n",
    "rmse = hist[\"root_mean_squared_error\"]\n",
    "charts.plot_training_loss(rmse)"
   ]
  },
  {
   "cell_type": "code",
   "execution_count": 6,
   "metadata": {
    "collapsed": false,
    "pycharm": {
     "name": "#%%\n"
    }
   },
   "outputs": [
    {
     "name": "stdout",
     "output_type": "stream",
     "text": [
      "7/7 [==============================] - 0s 1ms/step\n"
     ]
    },
    {
     "data": {
      "text/html": [
       "<div>\n",
       "<style scoped>\n",
       "    .dataframe tbody tr th:only-of-type {\n",
       "        vertical-align: middle;\n",
       "    }\n",
       "\n",
       "    .dataframe tbody tr th {\n",
       "        vertical-align: top;\n",
       "    }\n",
       "\n",
       "    .dataframe thead th {\n",
       "        text-align: right;\n",
       "    }\n",
       "</style>\n",
       "<table border=\"1\" class=\"dataframe\">\n",
       "  <thead>\n",
       "    <tr style=\"text-align: right;\">\n",
       "      <th></th>\n",
       "      <th>longitude</th>\n",
       "      <th>latitude</th>\n",
       "      <th>housing_median_age</th>\n",
       "      <th>total_rooms</th>\n",
       "      <th>total_bedrooms</th>\n",
       "      <th>population</th>\n",
       "      <th>households</th>\n",
       "      <th>median_income</th>\n",
       "      <th>median_house_value</th>\n",
       "      <th>prediction</th>\n",
       "    </tr>\n",
       "  </thead>\n",
       "  <tbody>\n",
       "    <tr>\n",
       "      <th>0</th>\n",
       "      <td>-118.14</td>\n",
       "      <td>33.95</td>\n",
       "      <td>37.0</td>\n",
       "      <td>1462.0</td>\n",
       "      <td>243.0</td>\n",
       "      <td>600.0</td>\n",
       "      <td>236.0</td>\n",
       "      <td>5.2015</td>\n",
       "      <td>302.0</td>\n",
       "      <td>222.167358</td>\n",
       "    </tr>\n",
       "    <tr>\n",
       "      <th>1</th>\n",
       "      <td>-117.15</td>\n",
       "      <td>32.76</td>\n",
       "      <td>36.0</td>\n",
       "      <td>2644.0</td>\n",
       "      <td>674.0</td>\n",
       "      <td>1211.0</td>\n",
       "      <td>654.0</td>\n",
       "      <td>3.0445</td>\n",
       "      <td>214.8</td>\n",
       "      <td>232.662872</td>\n",
       "    </tr>\n",
       "    <tr>\n",
       "      <th>2</th>\n",
       "      <td>-118.36</td>\n",
       "      <td>34.04</td>\n",
       "      <td>45.0</td>\n",
       "      <td>1767.0</td>\n",
       "      <td>417.0</td>\n",
       "      <td>1052.0</td>\n",
       "      <td>379.0</td>\n",
       "      <td>3.5161</td>\n",
       "      <td>157.0</td>\n",
       "      <td>196.684662</td>\n",
       "    </tr>\n",
       "    <tr>\n",
       "      <th>3</th>\n",
       "      <td>-122.04</td>\n",
       "      <td>38.25</td>\n",
       "      <td>37.0</td>\n",
       "      <td>1176.0</td>\n",
       "      <td>291.0</td>\n",
       "      <td>648.0</td>\n",
       "      <td>271.0</td>\n",
       "      <td>2.7167</td>\n",
       "      <td>92.2</td>\n",
       "      <td>209.030090</td>\n",
       "    </tr>\n",
       "    <tr>\n",
       "      <th>4</th>\n",
       "      <td>-120.08</td>\n",
       "      <td>38.80</td>\n",
       "      <td>34.0</td>\n",
       "      <td>1988.0</td>\n",
       "      <td>511.0</td>\n",
       "      <td>36.0</td>\n",
       "      <td>15.0</td>\n",
       "      <td>4.6250</td>\n",
       "      <td>162.5</td>\n",
       "      <td>118.513573</td>\n",
       "    </tr>\n",
       "  </tbody>\n",
       "</table>\n",
       "</div>"
      ],
      "text/plain": [
       "   longitude  latitude  housing_median_age  total_rooms  total_bedrooms  \\\n",
       "0    -118.14     33.95                37.0       1462.0           243.0   \n",
       "1    -117.15     32.76                36.0       2644.0           674.0   \n",
       "2    -118.36     34.04                45.0       1767.0           417.0   \n",
       "3    -122.04     38.25                37.0       1176.0           291.0   \n",
       "4    -120.08     38.80                34.0       1988.0           511.0   \n",
       "\n",
       "   population  households  median_income  median_house_value  prediction  \n",
       "0       600.0       236.0         5.2015               302.0  222.167358  \n",
       "1      1211.0       654.0         3.0445               214.8  232.662872  \n",
       "2      1052.0       379.0         3.5161               157.0  196.684662  \n",
       "3       648.0       271.0         2.7167                92.2  209.030090  \n",
       "4        36.0        15.0         4.6250               162.5  118.513573  "
      ]
     },
     "execution_count": 6,
     "metadata": {},
     "output_type": "execute_result"
    }
   ],
   "source": [
    "#sampling data to test/validate on\n",
    "sample_df = training_df.sample(n=200, ignore_index=True)\n",
    "features = sample_df[my_feature]\n",
    "predictions = my_model.predict(features).ravel()\n",
    "sample_df[\"prediction\"] = predictions\n",
    "\n",
    "sample_df.head()"
   ]
  },
  {
   "cell_type": "code",
   "execution_count": 7,
   "metadata": {
    "collapsed": false,
    "pycharm": {
     "name": "#%%\n"
    }
   },
   "outputs": [
    {
     "data": {
      "image/png": "[encoded data removed]",
      "text/plain": [
       "<Figure size 640x480 with 1 Axes>"
      ]
     },
     "metadata": {},
     "output_type": "display_data"
    }
   ],
   "source": [
    "charts.plot_model_accuracy(sample_df, my_label, label=\"House prices\")\n"
   ]
  },
  {
   "cell_type": "code",
   "execution_count": 8,
   "metadata": {
    "collapsed": false,
    "pycharm": {
     "name": "#%%\n"
    }
   },
   "outputs": [
    {
     "data": {
      "text/plain": [
       "[array([[-1.6676067e+00],\n",
       "        [-2.0321447e-04],\n",
       "        [ 4.3777093e-02],\n",
       "        [-3.3759239e-01],\n",
       "        [-6.8693772e-02],\n",
       "        [ 3.5377017e-01]], dtype=float32),\n",
       " array([0.92252296], dtype=float32)]"
      ]
     },
     "execution_count": 8,
     "metadata": {},
     "output_type": "execute_result"
    }
   ],
   "source": [
    "#weights per features\n",
    "weights = pd.DataFrame.from_dict({\n",
    "    \"feature\" : my_feature,\n",
    "    \"weight\" : my_model.get_weights()[0].ravel(),\n",
    "    \"correlation\" : training_df.corr()[\"median_house_value\"].filter(items=my_feature)\n",
    "})\n",
    "\n",
    "weights\n",
    "my_model.get_weights()"
   ]
  }
 ],
 "metadata": {
  "kernelspec": {
   "display_name": "Python 3",
   "language": "python",
   "name": "python3"
  },
  "language_info": {
   "codemirror_mode": {
    "name": "ipython",
    "version": 3
   },
   "file_extension": ".py",
   "mimetype": "text/x-python",
   "name": "python",
   "nbconvert_exporter": "python",
   "pygments_lexer": "ipython3",
   "version": "3.10.10"
  },
  "orig_nbformat": 4,
  "vscode": {
   "interpreter": {
    "hash": "f217f4ba0fbdac2659645b2b4b384a25fa6ae93bfd25d33be97b584101bdc912"
   }
  }
 },
 "nbformat": 4,
 "nbformat_minor": 2
}
