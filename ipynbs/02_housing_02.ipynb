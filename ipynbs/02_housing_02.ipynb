{
 "cells": [
  {
   "cell_type": "code",
   "execution_count": 3,
   "metadata": {
    "pycharm": {
     "name": "#%%\n"
    }
   },
   "outputs": [],
   "source": [
    "import pandas as pd\n",
    "import tensorflow as tf\n",
    "from matplotlib import pyplot as plt\n",
    "import seaborn as sns\n",
    "import numpy as np\n",
    "from helper import charts, lib"
   ]
  },
  {
   "cell_type": "code",
   "execution_count": 4,
   "metadata": {
    "pycharm": {
     "name": "#%%\n"
    }
   },
   "outputs": [],
   "source": [
    "# Import the dataset.\n",
    "training_df = pd.read_csv(filepath_or_buffer=\"https://download.mlcc.google.com/mledu-datasets/california_housing_train.csv\")\n",
    "\n",
    "# Scale the label.\n",
    "training_df[\"median_house_value\"] /= 1000.0"
   ]
  },
  {
   "cell_type": "code",
   "execution_count": 5,
   "metadata": {
    "collapsed": false,
    "pycharm": {
     "name": "#%%\n"
    }
   },
   "outputs": [],
   "source": [
    "def build_model(my_learning_rate):\n",
    "  \"\"\"Create and compile a simple linear regression model.\"\"\"\n",
    "  # Most simple tf.keras models are sequential.\n",
    "  model = tf.keras.models.Sequential()\n",
    "\n",
    "  # Describe the topography of the model.\n",
    "  # The topography of a simple linear regression model\n",
    "  # is a single node in a single layer.\n",
    "  model.add(tf.keras.layers.Dense(units=1, \n",
    "                                  input_shape=(6,)))\n",
    "\n",
    "  # Compile the model topography into code that TensorFlow can efficiently\n",
    "  # execute. Configure training to minimize the model's mean squared error. \n",
    "  model.compile(optimizer=tf.keras.optimizers.Adam(learning_rate=my_learning_rate),\n",
    "                loss=\"mean_squared_error\",\n",
    "                metrics=[tf.keras.metrics.RootMeanSquaredError()])\n",
    "\n",
    "  return model        \n",
    "\n",
    "\n",
    "def train_model(model, df, feature, label, epochs, batch_size):\n",
    "  \"\"\"Train the model by feeding it data.\"\"\"\n",
    "\n",
    "  # Feed the model the feature and the label.\n",
    "  # The model will train for the specified number of epochs. \n",
    "  history = model.fit(x=df[feature], y=df[label], batch_size=batch_size, epochs=epochs)\n",
    "\n",
    "  return history"
   ]
  },
  {
   "cell_type": "code",
   "execution_count": 6,
   "metadata": {
    "collapsed": false,
    "pycharm": {
     "name": "#%%\n"
    }
   },
   "outputs": [
    {
     "name": "stdout",
     "output_type": "stream",
     "text": [
      "Epoch 1/50\n",
      "266/266 [==============================] - 1s 1ms/step - loss: 324847.5938 - root_mean_squared_error: 569.9540\n",
      "Epoch 2/50\n",
      "266/266 [==============================] - 0s 921us/step - loss: 200958.7812 - root_mean_squared_error: 448.2843\n",
      "Epoch 3/50\n",
      "266/266 [==============================] - 0s 981us/step - loss: 163204.3594 - root_mean_squared_error: 403.9856\n",
      "Epoch 4/50\n",
      "266/266 [==============================] - 0s 947us/step - loss: 129055.0938 - root_mean_squared_error: 359.2424\n",
      "Epoch 5/50\n",
      "266/266 [==============================] - 0s 902us/step - loss: 100627.6562 - root_mean_squared_error: 317.2186\n",
      "Epoch 6/50\n",
      "266/266 [==============================] - 0s 921us/step - loss: 77706.7188 - root_mean_squared_error: 278.7592\n",
      "Epoch 7/50\n",
      "266/266 [==============================] - 0s 1ms/step - loss: 59800.9531 - root_mean_squared_error: 244.5423\n",
      "Epoch 8/50\n",
      "266/266 [==============================] - 0s 902us/step - loss: 46330.8828 - root_mean_squared_error: 215.2461\n",
      "Epoch 9/50\n",
      "266/266 [==============================] - 0s 898us/step - loss: 36517.3828 - root_mean_squared_error: 191.0952\n",
      "Epoch 10/50\n",
      "266/266 [==============================] - 0s 1ms/step - loss: 29368.5781 - root_mean_squared_error: 171.3726\n",
      "Epoch 11/50\n",
      "266/266 [==============================] - 0s 936us/step - loss: 24284.2148 - root_mean_squared_error: 155.8339\n",
      "Epoch 12/50\n",
      "266/266 [==============================] - 0s 1ms/step - loss: 20747.3867 - root_mean_squared_error: 144.0395\n",
      "Epoch 13/50\n",
      "266/266 [==============================] - 0s 925us/step - loss: 18232.0410 - root_mean_squared_error: 135.0261\n",
      "Epoch 14/50\n",
      "266/266 [==============================] - 0s 894us/step - loss: 16432.6152 - root_mean_squared_error: 128.1898\n",
      "Epoch 15/50\n",
      "266/266 [==============================] - 0s 921us/step - loss: 15073.1182 - root_mean_squared_error: 122.7726\n",
      "Epoch 16/50\n",
      "266/266 [==============================] - 0s 955us/step - loss: 14057.3516 - root_mean_squared_error: 118.5637\n",
      "Epoch 17/50\n",
      "266/266 [==============================] - 0s 898us/step - loss: 13288.7979 - root_mean_squared_error: 115.2770\n",
      "Epoch 18/50\n",
      "266/266 [==============================] - 0s 921us/step - loss: 12747.7510 - root_mean_squared_error: 112.9059\n",
      "Epoch 19/50\n",
      "266/266 [==============================] - 0s 894us/step - loss: 12349.5693 - root_mean_squared_error: 111.1286\n",
      "Epoch 20/50\n",
      "266/266 [==============================] - 0s 1ms/step - loss: 12118.0371 - root_mean_squared_error: 110.0820\n",
      "Epoch 21/50\n",
      "266/266 [==============================] - 0s 947us/step - loss: 11962.1943 - root_mean_squared_error: 109.3718\n",
      "Epoch 22/50\n",
      "266/266 [==============================] - 0s 932us/step - loss: 11864.8047 - root_mean_squared_error: 108.9257\n",
      "Epoch 23/50\n",
      "266/266 [==============================] - 0s 902us/step - loss: 11813.8809 - root_mean_squared_error: 108.6917\n",
      "Epoch 24/50\n",
      "266/266 [==============================] - 0s 902us/step - loss: 11809.8809 - root_mean_squared_error: 108.6733\n",
      "Epoch 25/50\n",
      "266/266 [==============================] - 0s 894us/step - loss: 11770.5195 - root_mean_squared_error: 108.4920\n",
      "Epoch 26/50\n",
      "266/266 [==============================] - 0s 898us/step - loss: 11757.1152 - root_mean_squared_error: 108.4302\n",
      "Epoch 27/50\n",
      "266/266 [==============================] - 0s 875us/step - loss: 11795.6807 - root_mean_squared_error: 108.6079\n",
      "Epoch 28/50\n",
      "266/266 [==============================] - 0s 940us/step - loss: 11772.4678 - root_mean_squared_error: 108.5010\n",
      "Epoch 29/50\n",
      "266/266 [==============================] - 0s 891us/step - loss: 11758.4023 - root_mean_squared_error: 108.4362\n",
      "Epoch 30/50\n",
      "266/266 [==============================] - 0s 992us/step - loss: 11773.7764 - root_mean_squared_error: 108.5070\n",
      "Epoch 31/50\n",
      "266/266 [==============================] - 0s 947us/step - loss: 11751.7861 - root_mean_squared_error: 108.4057\n",
      "Epoch 32/50\n",
      "266/266 [==============================] - 0s 894us/step - loss: 11780.4971 - root_mean_squared_error: 108.5380\n",
      "Epoch 33/50\n",
      "266/266 [==============================] - 0s 891us/step - loss: 11753.2676 - root_mean_squared_error: 108.4125\n",
      "Epoch 34/50\n",
      "266/266 [==============================] - 0s 894us/step - loss: 11745.4385 - root_mean_squared_error: 108.3764\n",
      "Epoch 35/50\n",
      "266/266 [==============================] - 0s 1ms/step - loss: 11768.6299 - root_mean_squared_error: 108.4833\n",
      "Epoch 36/50\n",
      "266/266 [==============================] - 0s 1ms/step - loss: 11745.3545 - root_mean_squared_error: 108.3760\n",
      "Epoch 37/50\n",
      "266/266 [==============================] - 0s 921us/step - loss: 11764.3867 - root_mean_squared_error: 108.4638\n",
      "Epoch 38/50\n",
      "266/266 [==============================] - 0s 940us/step - loss: 11737.7109 - root_mean_squared_error: 108.3407\n",
      "Epoch 39/50\n",
      "266/266 [==============================] - 0s 913us/step - loss: 11788.5039 - root_mean_squared_error: 108.5749\n",
      "Epoch 40/50\n",
      "266/266 [==============================] - 0s 1ms/step - loss: 11742.7236 - root_mean_squared_error: 108.3638\n",
      "Epoch 41/50\n",
      "266/266 [==============================] - 0s 1ms/step - loss: 11730.8779 - root_mean_squared_error: 108.3092\n",
      "Epoch 42/50\n",
      "266/266 [==============================] - 0s 1ms/step - loss: 11708.3828 - root_mean_squared_error: 108.2053\n",
      "Epoch 43/50\n",
      "266/266 [==============================] - 0s 913us/step - loss: 11749.2031 - root_mean_squared_error: 108.3937\n",
      "Epoch 44/50\n",
      "266/266 [==============================] - 0s 883us/step - loss: 11736.7725 - root_mean_squared_error: 108.3364\n",
      "Epoch 45/50\n",
      "266/266 [==============================] - 0s 875us/step - loss: 11719.4131 - root_mean_squared_error: 108.2562\n",
      "Epoch 46/50\n",
      "266/266 [==============================] - 0s 887us/step - loss: 11709.0596 - root_mean_squared_error: 108.2084\n",
      "Epoch 47/50\n",
      "266/266 [==============================] - 0s 883us/step - loss: 11736.9023 - root_mean_squared_error: 108.3370\n",
      "Epoch 48/50\n",
      "266/266 [==============================] - 0s 887us/step - loss: 11704.0801 - root_mean_squared_error: 108.1854\n",
      "Epoch 49/50\n",
      "266/266 [==============================] - 0s 1ms/step - loss: 11748.9775 - root_mean_squared_error: 108.3927\n",
      "Epoch 50/50\n",
      "266/266 [==============================] - 0s 887us/step - loss: 11743.4297 - root_mean_squared_error: 108.3671\n"
     ]
    }
   ],
   "source": [
    "# The following variables are the hyperparameters.\n",
    "learning_rate = 0.001\n",
    "epoch_count = 50\n",
    "batch_size = 64\n",
    "\n",
    "# Specify the feature and the label.\n",
    "my_feature = [\"longitude\", \"latitude\", \"total_rooms\", \"total_bedrooms\", \"population\", \"households\"]\n",
    "my_label=\"median_house_value\" # the median value of a house on a specific city block.\n",
    "# That is, you're going to create a model that predicts house value based \n",
    "# solely on total_rooms.  \n",
    "\n",
    "# Invoke the functions.\n",
    "my_model = build_model(learning_rate)\n",
    "history = train_model(my_model, training_df, my_feature, my_label, epoch_count, batch_size)"
   ]
  },
  {
   "cell_type": "code",
   "execution_count": 7,
   "metadata": {},
   "outputs": [
    {
     "data": {
      "image/png": "[encoded data removed]",
      "text/plain": [
       "<Figure size 640x480 with 1 Axes>"
      ]
     },
     "metadata": {},
     "output_type": "display_data"
    }
   ],
   "source": [
    "#saving history and epcohs to dataframe\n",
    "epochs = history.epoch\n",
    "hist = pd.DataFrame(history.history)\n",
    "rmse = hist[\"root_mean_squared_error\"]\n",
    "charts.plot_training_loss(rmse)"
   ]
  },
  {
   "cell_type": "code",
   "execution_count": 11,
   "metadata": {
    "collapsed": false,
    "pycharm": {
     "name": "#%%\n"
    }
   },
   "outputs": [
    {
     "name": "stdout",
     "output_type": "stream",
     "text": [
      "7/7 [==============================] - 0s 2ms/step\n"
     ]
    },
    {
     "data": {
      "text/html": [
       "<div>\n",
       "<style scoped>\n",
       "    .dataframe tbody tr th:only-of-type {\n",
       "        vertical-align: middle;\n",
       "    }\n",
       "\n",
       "    .dataframe tbody tr th {\n",
       "        vertical-align: top;\n",
       "    }\n",
       "\n",
       "    .dataframe thead th {\n",
       "        text-align: right;\n",
       "    }\n",
       "</style>\n",
       "<table border=\"1\" class=\"dataframe\">\n",
       "  <thead>\n",
       "    <tr style=\"text-align: right;\">\n",
       "      <th></th>\n",
       "      <th>longitude</th>\n",
       "      <th>latitude</th>\n",
       "      <th>housing_median_age</th>\n",
       "      <th>total_rooms</th>\n",
       "      <th>total_bedrooms</th>\n",
       "      <th>population</th>\n",
       "      <th>households</th>\n",
       "      <th>median_income</th>\n",
       "      <th>median_house_value</th>\n",
       "      <th>prediction</th>\n",
       "    </tr>\n",
       "  </thead>\n",
       "  <tbody>\n",
       "    <tr>\n",
       "      <th>0</th>\n",
       "      <td>-119.80</td>\n",
       "      <td>36.77</td>\n",
       "      <td>52.0</td>\n",
       "      <td>2964.0</td>\n",
       "      <td>512.0</td>\n",
       "      <td>1114.0</td>\n",
       "      <td>486.0</td>\n",
       "      <td>3.8105</td>\n",
       "      <td>87.6</td>\n",
       "      <td>229.549683</td>\n",
       "    </tr>\n",
       "    <tr>\n",
       "      <th>1</th>\n",
       "      <td>-118.07</td>\n",
       "      <td>34.10</td>\n",
       "      <td>28.0</td>\n",
       "      <td>676.0</td>\n",
       "      <td>177.0</td>\n",
       "      <td>543.0</td>\n",
       "      <td>185.0</td>\n",
       "      <td>3.2361</td>\n",
       "      <td>187.5</td>\n",
       "      <td>189.236145</td>\n",
       "    </tr>\n",
       "    <tr>\n",
       "      <th>2</th>\n",
       "      <td>-122.66</td>\n",
       "      <td>37.93</td>\n",
       "      <td>42.0</td>\n",
       "      <td>1505.0</td>\n",
       "      <td>324.0</td>\n",
       "      <td>553.0</td>\n",
       "      <td>277.0</td>\n",
       "      <td>4.1792</td>\n",
       "      <td>350.0</td>\n",
       "      <td>210.347336</td>\n",
       "    </tr>\n",
       "    <tr>\n",
       "      <th>3</th>\n",
       "      <td>-121.00</td>\n",
       "      <td>37.65</td>\n",
       "      <td>52.0</td>\n",
       "      <td>3887.0</td>\n",
       "      <td>803.0</td>\n",
       "      <td>1768.0</td>\n",
       "      <td>779.0</td>\n",
       "      <td>2.5089</td>\n",
       "      <td>119.0</td>\n",
       "      <td>223.221588</td>\n",
       "    </tr>\n",
       "    <tr>\n",
       "      <th>4</th>\n",
       "      <td>-119.17</td>\n",
       "      <td>34.16</td>\n",
       "      <td>17.0</td>\n",
       "      <td>5276.0</td>\n",
       "      <td>1020.0</td>\n",
       "      <td>4066.0</td>\n",
       "      <td>984.0</td>\n",
       "      <td>4.5828</td>\n",
       "      <td>205.4</td>\n",
       "      <td>117.767120</td>\n",
       "    </tr>\n",
       "  </tbody>\n",
       "</table>\n",
       "</div>"
      ],
      "text/plain": [
       "   longitude  latitude  housing_median_age  total_rooms  total_bedrooms  \\\n",
       "0    -119.80     36.77                52.0       2964.0           512.0   \n",
       "1    -118.07     34.10                28.0        676.0           177.0   \n",
       "2    -122.66     37.93                42.0       1505.0           324.0   \n",
       "3    -121.00     37.65                52.0       3887.0           803.0   \n",
       "4    -119.17     34.16                17.0       5276.0          1020.0   \n",
       "\n",
       "   population  households  median_income  median_house_value  prediction  \n",
       "0      1114.0       486.0         3.8105                87.6  229.549683  \n",
       "1       543.0       185.0         3.2361               187.5  189.236145  \n",
       "2       553.0       277.0         4.1792               350.0  210.347336  \n",
       "3      1768.0       779.0         2.5089               119.0  223.221588  \n",
       "4      4066.0       984.0         4.5828               205.4  117.767120  "
      ]
     },
     "execution_count": 11,
     "metadata": {},
     "output_type": "execute_result"
    }
   ],
   "source": [
    "#sampling data to test/validate on\n",
    "sample_df = training_df.sample(n=200, ignore_index=True)\n",
    "features = sample_df[my_feature]\n",
    "predictions = my_model.predict(features).ravel()\n",
    "sample_df[\"prediction\"] = predictions\n",
    "\n",
    "sample_df.head()"
   ]
  },
  {
   "cell_type": "code",
   "execution_count": 12,
   "metadata": {
    "collapsed": false,
    "pycharm": {
     "name": "#%%\n"
    }
   },
   "outputs": [
    {
     "data": {
      "image/png": "[encoded data removed]",
      "text/plain": [
       "<Figure size 640x480 with 1 Axes>"
      ]
     },
     "metadata": {},
     "output_type": "display_data"
    }
   ],
   "source": [
    "charts.plot_model_accuracy(sample_df, my_label, label=\"House prices\")\n"
   ]
  },
  {
   "cell_type": "code",
   "execution_count": null,
   "metadata": {
    "collapsed": false,
    "pycharm": {
     "name": "#%%\n"
    }
   },
   "outputs": [
    {
     "data": {
      "text/plain": [
       "[array([[-1.416647  ],\n",
       "        [ 0.81287885],\n",
       "        [ 0.04081986],\n",
       "        [-0.2599506 ],\n",
       "        [-0.06180122],\n",
       "        [ 0.2591897 ]], dtype=float32),\n",
       " array([1.754671], dtype=float32)]"
      ]
     },
     "execution_count": 29,
     "metadata": {},
     "output_type": "execute_result"
    }
   ],
   "source": [
    "#weights per features\n",
    "weights = pd.DataFrame.from_dict({\n",
    "    \"feature\" : my_feature,\n",
    "    \"weight\" : my_model.get_weights()[0].ravel(),\n",
    "    \"correlation\" : training_df.corr()[\"median_house_value\"].filter(items=my_feature)\n",
    "})\n",
    "\n",
    "weights\n",
    "my_model.get_weights()"
   ]
  }
 ],
 "metadata": {
  "kernelspec": {
   "display_name": "Python 3",
   "language": "python",
   "name": "python3"
  },
  "language_info": {
   "codemirror_mode": {
    "name": "ipython",
    "version": 3
   },
   "file_extension": ".py",
   "mimetype": "text/x-python",
   "name": "python",
   "nbconvert_exporter": "python",
   "pygments_lexer": "ipython3",
   "version": "3.10.10"
  },
  "orig_nbformat": 4,
  "vscode": {
   "interpreter": {
    "hash": "f217f4ba0fbdac2659645b2b4b384a25fa6ae93bfd25d33be97b584101bdc912"
   }
  }
 },
 "nbformat": 4,
 "nbformat_minor": 2
}
